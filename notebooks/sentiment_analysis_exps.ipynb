{
 "cells": [
  {
   "cell_type": "code",
   "execution_count": 5,
   "metadata": {},
   "outputs": [],
   "source": [
    "import numpy as np\n",
    "import pandas as pd\n",
    "import torch\n",
    "import zipfile\n",
    "import bz2\n",
    "from transformers import DistilBertTokenizer, DistilBertModel\n",
    "from sklearn.model_selection import train_test_split\n",
    "from sklearn.linear_model import LogisticRegression\n",
    "from sklearn.svm import SVC"
   ]
  },
  {
   "cell_type": "markdown",
   "metadata": {},
   "source": [
    "# Data"
   ]
  },
  {
   "cell_type": "markdown",
   "metadata": {},
   "source": [
    "## 1. Twitter"
   ]
  },
  {
   "cell_type": "code",
   "execution_count": 46,
   "metadata": {},
   "outputs": [],
   "source": [
    "data_path = \"../data/\""
   ]
  },
  {
   "cell_type": "code",
   "execution_count": 47,
   "metadata": {},
   "outputs": [
    {
     "data": {
      "text/html": [
       "<div>\n",
       "<style scoped>\n",
       "    .dataframe tbody tr th:only-of-type {\n",
       "        vertical-align: middle;\n",
       "    }\n",
       "\n",
       "    .dataframe tbody tr th {\n",
       "        vertical-align: top;\n",
       "    }\n",
       "\n",
       "    .dataframe thead th {\n",
       "        text-align: right;\n",
       "    }\n",
       "</style>\n",
       "<table border=\"1\" class=\"dataframe\">\n",
       "  <thead>\n",
       "    <tr style=\"text-align: right;\">\n",
       "      <th></th>\n",
       "      <th>0</th>\n",
       "      <th>1</th>\n",
       "      <th>2</th>\n",
       "      <th>3</th>\n",
       "      <th>4</th>\n",
       "      <th>5</th>\n",
       "    </tr>\n",
       "  </thead>\n",
       "  <tbody>\n",
       "    <tr>\n",
       "      <th>0</th>\n",
       "      <td>0</td>\n",
       "      <td>1467810369</td>\n",
       "      <td>Mon Apr 06 22:19:45 PDT 2009</td>\n",
       "      <td>NO_QUERY</td>\n",
       "      <td>_TheSpecialOne_</td>\n",
       "      <td>@switchfoot http://twitpic.com/2y1zl - Awww, t...</td>\n",
       "    </tr>\n",
       "    <tr>\n",
       "      <th>1</th>\n",
       "      <td>0</td>\n",
       "      <td>1467810672</td>\n",
       "      <td>Mon Apr 06 22:19:49 PDT 2009</td>\n",
       "      <td>NO_QUERY</td>\n",
       "      <td>scotthamilton</td>\n",
       "      <td>is upset that he can't update his Facebook by ...</td>\n",
       "    </tr>\n",
       "    <tr>\n",
       "      <th>2</th>\n",
       "      <td>0</td>\n",
       "      <td>1467810917</td>\n",
       "      <td>Mon Apr 06 22:19:53 PDT 2009</td>\n",
       "      <td>NO_QUERY</td>\n",
       "      <td>mattycus</td>\n",
       "      <td>@Kenichan I dived many times for the ball. Man...</td>\n",
       "    </tr>\n",
       "    <tr>\n",
       "      <th>3</th>\n",
       "      <td>0</td>\n",
       "      <td>1467811184</td>\n",
       "      <td>Mon Apr 06 22:19:57 PDT 2009</td>\n",
       "      <td>NO_QUERY</td>\n",
       "      <td>ElleCTF</td>\n",
       "      <td>my whole body feels itchy and like its on fire</td>\n",
       "    </tr>\n",
       "    <tr>\n",
       "      <th>4</th>\n",
       "      <td>0</td>\n",
       "      <td>1467811193</td>\n",
       "      <td>Mon Apr 06 22:19:57 PDT 2009</td>\n",
       "      <td>NO_QUERY</td>\n",
       "      <td>Karoli</td>\n",
       "      <td>@nationwideclass no, it's not behaving at all....</td>\n",
       "    </tr>\n",
       "  </tbody>\n",
       "</table>\n",
       "</div>"
      ],
      "text/plain": [
       "   0           1                             2         3                4  \\\n",
       "0  0  1467810369  Mon Apr 06 22:19:45 PDT 2009  NO_QUERY  _TheSpecialOne_   \n",
       "1  0  1467810672  Mon Apr 06 22:19:49 PDT 2009  NO_QUERY    scotthamilton   \n",
       "2  0  1467810917  Mon Apr 06 22:19:53 PDT 2009  NO_QUERY         mattycus   \n",
       "3  0  1467811184  Mon Apr 06 22:19:57 PDT 2009  NO_QUERY          ElleCTF   \n",
       "4  0  1467811193  Mon Apr 06 22:19:57 PDT 2009  NO_QUERY           Karoli   \n",
       "\n",
       "                                                   5  \n",
       "0  @switchfoot http://twitpic.com/2y1zl - Awww, t...  \n",
       "1  is upset that he can't update his Facebook by ...  \n",
       "2  @Kenichan I dived many times for the ball. Man...  \n",
       "3    my whole body feels itchy and like its on fire   \n",
       "4  @nationwideclass no, it's not behaving at all....  "
      ]
     },
     "execution_count": 47,
     "metadata": {},
     "output_type": "execute_result"
    }
   ],
   "source": [
    "twitter_zip = zipfile.ZipFile(data_path + \"twitter/twitter.zip\")\n",
    "twitter = pd.read_csv(twitter_zip.open('training.1600000.processed.noemoticon.csv'),encoding='ISO-8859-1', header=None)\n",
    "twitter.head()"
   ]
  },
  {
   "cell_type": "code",
   "execution_count": 48,
   "metadata": {},
   "outputs": [],
   "source": [
    "y_tw = twitter[0].values\n",
    "y_tw[y_tw==4]=1\n",
    "X_tw = twitter[5].values\n",
    "\n",
    "X_train_val_tw, X_test_tw, y_train_val_tw, y_test_tw = train_test_split(X_tw, y_tw, test_size=0.33, random_state=7)\n",
    "X_train_tw, X_dev_tw, y_train_tw, y_dev_tw = train_test_split(X_train_val_tw, y_train_val_tw, test_size=0.33, random_state=7)"
   ]
  },
  {
   "cell_type": "code",
   "execution_count": 100,
   "metadata": {},
   "outputs": [
    {
     "data": {
      "text/plain": [
       "(0.518, 0.479)"
      ]
     },
     "execution_count": 100,
     "metadata": {},
     "output_type": "execute_result"
    }
   ],
   "source": [
    "sum(y_train_tw[:2000])/len(y_train_tw[:2000]), sum(y_test_tw[:2000])/len(y_test_tw[:2000])"
   ]
  },
  {
   "cell_type": "markdown",
   "metadata": {},
   "source": [
    "## 2. Amazon"
   ]
  },
  {
   "cell_type": "code",
   "execution_count": 150,
   "metadata": {},
   "outputs": [],
   "source": [
    "amazon_train_file = bz2.BZ2File(data_path + 'amazon/train.ft.txt.bz2').readlines()\n",
    "amazon_test_file = bz2.BZ2File(data_path + 'amazon/test.ft.txt.bz2').readlines()"
   ]
  },
  {
   "cell_type": "code",
   "execution_count": 480,
   "metadata": {},
   "outputs": [],
   "source": [
    "amazon_train_file = [x.decode('utf-8') for x in amazon_train_file]\n",
    "amazon_test_file = [x.decode('utf-8') for x in amazon_test_file]"
   ]
  },
  {
   "cell_type": "code",
   "execution_count": 481,
   "metadata": {},
   "outputs": [],
   "source": [
    "amazon_train_file[0].find(\" \")\n",
    "def get_label_feature_amazon(file):\n",
    "    labels = []\n",
    "    reviews = []\n",
    "    for i, e in enumerate(file):\n",
    "        sep_pos = e.find(\" \")\n",
    "        label = 1 if e[:sep_pos]==\"__label__2\" else 0\n",
    "        review = e[(sep_pos+1):]\n",
    "        labels.append(label)\n",
    "        reviews.append(review)\n",
    "    return np.array(reviews), np.array(labels)"
   ]
  },
  {
   "cell_type": "code",
   "execution_count": 482,
   "metadata": {},
   "outputs": [],
   "source": [
    "X_train_val_az, y_train_val_az = get_label_feature_amazon(amazon_train_file)\n",
    "X_test_az, y_test_az = get_label_feature_amazon(amazon_train_file)\n",
    "X_train_az, X_dev_az, y_train_az, y_dev_az = train_test_split(X_train_val_az, y_train_val_az, test_size=0.33, random_state=7)"
   ]
  },
  {
   "cell_type": "code",
   "execution_count": 98,
   "metadata": {},
   "outputs": [
    {
     "data": {
      "text/plain": [
       "(0.5095, 0.4945)"
      ]
     },
     "execution_count": 98,
     "metadata": {},
     "output_type": "execute_result"
    }
   ],
   "source": [
    "sum(y_train_az[:2000])/len(y_train_az[:2000]), sum(y_dev_az[:2000])/len(y_dev_az[:2000])"
   ]
  },
  {
   "cell_type": "code",
   "execution_count": 484,
   "metadata": {},
   "outputs": [
    {
     "data": {
      "text/plain": [
       "(2412000,)"
      ]
     },
     "execution_count": 484,
     "metadata": {},
     "output_type": "execute_result"
    }
   ],
   "source": [
    "y_train_az.shape"
   ]
  },
  {
   "cell_type": "markdown",
   "metadata": {},
   "source": [
    "## 3. Movie"
   ]
  },
  {
   "cell_type": "code",
   "execution_count": 41,
   "metadata": {},
   "outputs": [],
   "source": [
    "movie_zip = zipfile.ZipFile(data_path + \"movies/movie.zip\")"
   ]
  },
  {
   "cell_type": "code",
   "execution_count": 42,
   "metadata": {},
   "outputs": [],
   "source": [
    "movie_train = pd.read_csv(movie_zip.open('Train.csv'))\n",
    "movie_dev = pd.read_csv(movie_zip.open('Valid.csv'))\n",
    "movie_test = pd.read_csv(movie_zip.open('Test.csv'))"
   ]
  },
  {
   "cell_type": "code",
   "execution_count": 43,
   "metadata": {},
   "outputs": [],
   "source": [
    "X_train_mv = movie_train['text'].values\n",
    "X_dev_mv = movie_dev['text'].values\n",
    "X_test_mv = movie_test['text'].values\n",
    "\n",
    "y_train_mv = movie_train['label'].values\n",
    "y_dev_mv = movie_dev['label'].values\n",
    "y_test_mv = movie_test['label'].values"
   ]
  },
  {
   "cell_type": "code",
   "execution_count": 44,
   "metadata": {},
   "outputs": [
    {
     "data": {
      "text/plain": [
       "('I grew up (b. 1965) watching and loving the Thunderbirds. All my mates at school watched. We played \"Thunderbirds\" before school, during lunch and after school. We all wanted to be Virgil or Scott. No one wanted to be Alan. Counting down from 5 became an art form. I took my children to see the movie hoping they would get a glimpse of what I loved as a child. How bitterly disappointing. The only high point was the snappy theme tune. Not that it could compare with the original score of the Thunderbirds. Thankfully early Saturday mornings one television channel still plays reruns of the series Gerry Anderson and his wife created. Jonatha Frakes should hand in his directors chair, his version was completely hopeless. A waste of film. Utter rubbish. A CGI remake may be acceptable but replacing marionettes with Homo sapiens subsp. sapiens was a huge error of judgment.',\n",
       " 0)"
      ]
     },
     "execution_count": 44,
     "metadata": {},
     "output_type": "execute_result"
    }
   ],
   "source": [
    "X_train_mv[0], y_train_mv[0]"
   ]
  },
  {
   "cell_type": "code",
   "execution_count": 99,
   "metadata": {},
   "outputs": [
    {
     "data": {
      "text/plain": [
       "(0.4715, 0.512)"
      ]
     },
     "execution_count": 99,
     "metadata": {},
     "output_type": "execute_result"
    }
   ],
   "source": [
    "sum(y_train_mv[:2000])/len(y_train_mv[:2000]), sum(y_dev_mv[:2000])/len(y_dev_mv[:2000])"
   ]
  },
  {
   "cell_type": "markdown",
   "metadata": {},
   "source": [
    "## 4. Finance"
   ]
  },
  {
   "cell_type": "code",
   "execution_count": 111,
   "metadata": {},
   "outputs": [],
   "source": [
    "finance_file = pd.read_csv(data_path + \"/finance/archive/all-data.csv\", encoding='ISO-8859-1', header = None)"
   ]
  },
  {
   "cell_type": "code",
   "execution_count": 112,
   "metadata": {},
   "outputs": [],
   "source": [
    "finance =  finance_file[finance_file[0]!=\"neutral\"]"
   ]
  },
  {
   "cell_type": "code",
   "execution_count": 120,
   "metadata": {},
   "outputs": [],
   "source": [
    "y_fi = finance[0].values\n",
    "y_fi[y_fi==\"negative\"] = 0\n",
    "y_fi[y_fi==\"positive\"] = 1\n",
    "y_fi = y_fi.astype(\"int64\")\n",
    "X_fi = finance[1].values\n",
    "\n",
    "X_train_val_fi, X_test_fi, y_train_val_fi, y_test_fi = train_test_split(X_fi, y_fi, test_size=0.33, random_state=7)\n",
    "X_train_fi, X_dev_fi, y_train_fi, y_dev_fi = train_test_split(X_train_val_fi, y_train_val_fi, test_size=0.1, random_state=7)"
   ]
  },
  {
   "cell_type": "code",
   "execution_count": 121,
   "metadata": {},
   "outputs": [
    {
     "data": {
      "text/plain": [
       "((1185,), (1967,))"
      ]
     },
     "execution_count": 121,
     "metadata": {},
     "output_type": "execute_result"
    }
   ],
   "source": [
    "y_train_fi.shape, y_fi.shape # not enough data"
   ]
  },
  {
   "cell_type": "code",
   "execution_count": 122,
   "metadata": {},
   "outputs": [
    {
     "data": {
      "text/plain": [
       "0.6886075949367089"
      ]
     },
     "execution_count": 122,
     "metadata": {},
     "output_type": "execute_result"
    }
   ],
   "source": [
    "sum(y_train_fi[:2000])/len(y_train_fi[:2000])"
   ]
  },
  {
   "cell_type": "markdown",
   "metadata": {},
   "source": [
    "# Encode"
   ]
  },
  {
   "cell_type": "code",
   "execution_count": 7,
   "metadata": {},
   "outputs": [],
   "source": [
    "tokenizer_d = DistilBertTokenizer.from_pretrained('distilbert-base-uncased')\n",
    "model_d = DistilBertModel.from_pretrained('distilbert-base-uncased')"
   ]
  },
  {
   "cell_type": "code",
   "execution_count": 9,
   "metadata": {},
   "outputs": [
    {
     "data": {
      "text/plain": [
       "['@Jayme1988 well when you are younger Id agree but as we get older..marrying for money is the way to go ',\n",
       " '@Jackalltimelow Awee poor Jack, all alllone! ',\n",
       " 'my tummy hurts. ',\n",
       " 'mmmmm pa says my room has to be blue once again  ',\n",
       " '@xsameehx wish you were here my love. Our superhero trio is not the same as a duo only ',\n",
       " 'Watched War of the Worlds. Not bad. Kept seeing Kathy Bates tits flash in my head. ',\n",
       " 'Just had a really lovely conversation on omegle  I think i made a new friend',\n",
       " \"@tommcfly tom, isn't your fault, you're still the best \",\n",
       " '@catnip070 Caught a cold  cough cough.',\n",
       " \"@blacksocialite I think we staying at slice... I showed 255 my real I'd \"]"
      ]
     },
     "execution_count": 9,
     "metadata": {},
     "output_type": "execute_result"
    }
   ],
   "source": [
    "list(X_train)[:10]"
   ]
  },
  {
   "cell_type": "code",
   "execution_count": 460,
   "metadata": {},
   "outputs": [],
   "source": [
    "def tokenize_encode_sentences(tokenizer, model, input_sentences, output_path):\n",
    "    output = np.zeros([len(input_sentences), 768])\n",
    "    for i, x in enumerate(input_sentences): \n",
    "        output[i] = tokenize_encode_sentences_sample(tokenizer, model, [x])\n",
    "    np.save(output_path, output)\n",
    "    return output\n",
    "\n",
    "def tokenize_encode_sentences_sample(tokenizer, model, input_sentences):\n",
    "    encoded_input = tokenizer(input_sentences, return_tensors = 'pt', truncation = True, padding = True)\n",
    "    output = model(**encoded_input)[0][:,0,:].detach().numpy()\n",
    "    return output"
   ]
  },
  {
   "cell_type": "code",
   "execution_count": 167,
   "metadata": {},
   "outputs": [],
   "source": [
    "output_train_tw = tokenize_encode_sentences(tokenizer_d, model_d, list(X_train_tw[:2000]), \"../outputs/\" + \"encoded_twitter_train_2000\")\n",
    "output_dev_tw = tokenize_encode_sentences(tokenizer_d, model_d, list(X_dev_tw[:2000]), \"../outputs/\" + \"encoded_twitter_dev_2000\")"
   ]
  },
  {
   "cell_type": "code",
   "execution_count": 168,
   "metadata": {},
   "outputs": [],
   "source": [
    "output_train_az = tokenize_encode_sentences(tokenizer_d, model_d, list(X_train_az[:2000]), \"../outputs/\" + \"encoded_amazon_train_2000\")\n",
    "output_dev_az = tokenize_encode_sentences(tokenizer_d, model_d, list(X_dev_az[:2000]), \"../outputs/\" + \"encoded_amazon_dev_2000\")"
   ]
  },
  {
   "cell_type": "code",
   "execution_count": 169,
   "metadata": {},
   "outputs": [],
   "source": [
    "output_train_mv = tokenize_encode_sentences(tokenizer_d, model_d, list(X_train_mv[:2000]), \"../outputs/\" + \"encoded_movie_train_2000\")\n",
    "output_dev_mv = tokenize_encode_sentences(tokenizer_d, model_d, list(X_dev_mv[:2000]), \"../outputs/\" + \"encoded_movie_dev_2000\")"
   ]
  },
  {
   "cell_type": "code",
   "execution_count": 461,
   "metadata": {},
   "outputs": [],
   "source": [
    "output_train_fi = tokenize_encode_sentences(tokenizer_d, model_d, list(X_train_fi[:2000]), \"../outputs/\" + \"encoded_finance_train_2000\")\n",
    "output_dev_fi = tokenize_encode_sentences(tokenizer_d, model_d, list(X_dev_fi[:2000]), \"../outputs/\" + \"encoded_finance_dev_2000\")"
   ]
  },
  {
   "cell_type": "markdown",
   "metadata": {},
   "source": [
    "# Models"
   ]
  },
  {
   "cell_type": "code",
   "execution_count": 12,
   "metadata": {},
   "outputs": [],
   "source": [
    "lr = LogisticRegression(C=0.1, max_iter = 200000)\n",
    "\n",
    "datasets = [\"tw\", \"az\", \"mv\"]\n",
    "\n",
    "def results(model, datasets):\n",
    "    for s in datasets:\n",
    "        print(s)\n",
    "        model.fit(eval(s + \"_train\"), eval(\"y_train_\" + s)[:2000])\n",
    "        s_train = model.score(eval(s + \"_train\"), eval(\"y_train_\" + s)[:2000])\n",
    "        s_val = model.score(eval(s + \"_dev\"), eval(\"y_dev_\" + s)[:2000])\n",
    "        print(\"source train:\", s_train)\n",
    "        print(\"source val:\", s_val)\n",
    "        datasets_ts = datasets.copy()\n",
    "        datasets_ts.remove(s)\n",
    "        \n",
    "        for t in datasets_ts:\n",
    "            model.fit(eval(s + \"_train\"), eval(\"y_train_\" + s)[:2000])\n",
    "            t_val = model.score(eval(t + \"_dev\"), eval(\"y_dev_\" + t)[:2000])\n",
    "            print(\"target \" + t + \":\", t_val)\n",
    "        print()"
   ]
  },
  {
   "cell_type": "code",
   "execution_count": 13,
   "metadata": {},
   "outputs": [
    {
     "name": "stdout",
     "output_type": "stream",
     "text": [
      "tw\n",
      "source train: 0.8\n",
      "source val: 0.751\n",
      "target az: 0.8015\n",
      "target mv: 0.774\n",
      "\n",
      "az\n",
      "source train: 0.9015\n",
      "source val: 0.884\n",
      "target tw: 0.6985\n",
      "target mv: 0.8255\n",
      "\n",
      "mv\n",
      "source train: 0.87\n",
      "source val: 0.8575\n",
      "target tw: 0.6995\n",
      "target az: 0.8525\n",
      "\n"
     ]
    }
   ],
   "source": [
    "results(lr, datasets)"
   ]
  },
  {
   "cell_type": "markdown",
   "metadata": {},
   "source": [
    "# Conclusion:\n",
    "We can use: \n",
    "* tw --> fi\n",
    "* az --> mv\n",
    "* az --> fi\n",
    "* mv --> az\n",
    "* fi --> az (low priority, bc rarely finance is the source in real world)\n",
    "* fi --> mv (low priority, bc rarely finance is the source in real world)"
   ]
  },
  {
   "cell_type": "markdown",
   "metadata": {},
   "source": [
    "# Source to target groups"
   ]
  },
  {
   "cell_type": "code",
   "execution_count": 1,
   "metadata": {},
   "outputs": [],
   "source": [
    "import numpy as np"
   ]
  },
  {
   "cell_type": "code",
   "execution_count": 2,
   "metadata": {},
   "outputs": [],
   "source": [
    "for data_type in [\"az\", \"tw\", \"fi\", \"mv\"]:\n",
    "    exec(data_type + '_train = np.load(\"../data/all_bert/encoded_' + data_type + '_train_2000.npy\")')\n",
    "    exec(data_type + '_dev = np.load(\"../data/all_bert/encoded_' + data_type + '_dev_2000.npy\")')\n",
    "    exec(\"y_train_\" + data_type + ' = np.load(\"../data/all_cleaned/y_train_'+ data_type + '.npy\")')\n",
    "    exec(\"y_dev_\" + data_type + ' = np.load(\"../data/all_cleaned/y_dev_'+ data_type + '.npy\")')"
   ]
  },
  {
   "cell_type": "code",
   "execution_count": 24,
   "metadata": {},
   "outputs": [],
   "source": [
    "from sklearn.metrics.pairwise import cosine_similarity\n",
    "import matplotlib.pyplot as plt"
   ]
  },
  {
   "cell_type": "code",
   "execution_count": 23,
   "metadata": {},
   "outputs": [],
   "source": [
    "def psuedo_labeling(X_source, y_source, X_ti, y_ti, model, conf = 0): \n",
    "    model = model\n",
    "    model.fit(X_source, y_source)\n",
    "    y_prob = model.predict_proba(X_ti)[:,0]\n",
    "    X_ti_keep = X_ti[(y_prob >= 0.5 + conf) | (y_prob < 0.5 - conf)]\n",
    "    y_pred = model.predict(X_ti_keep)\n",
    "    X_source_updated = np.concatenate((X_source, X_ti_keep), 0)\n",
    "    y_source_updated = np.concatenate((y_source, y_pred), 0)\n",
    "    return X_source_updated, y_source_updated\n",
    "\n",
    "def gradual_train(X_source, y_source, X_target, y_target, base_model, data_size=2000, group_size=5, plot_hist=True, conf = 0):\n",
    "    \n",
    "    # initial model:\n",
    "    model = base_model\n",
    "    model.fit(X_source, y_source)\n",
    "    original = model.score(X_target, y_target)\n",
    "    \n",
    "    # calculate distances\n",
    "    source_center = np.mean(X_source, 0)\n",
    "    dists = [1 - cosine_similarity(source_center.reshape(1,-1), x.reshape(1, -1))[0][0] for x in X_target]\n",
    "    if plot_hist:\n",
    "        plt.hist(dists, bins = 100)\n",
    "        plt.show()\n",
    "    \n",
    "    # create groups within targets and gradually train\n",
    "    dists = np.array(dists)\n",
    "    dists_order = np.argsort(dists)\n",
    "    dists_rank = np.argsort(dists_order)\n",
    "    \n",
    "    step = data_size/group_size\n",
    "    X_target_groups = []\n",
    "    y_target_groups = []\n",
    "    gradual_scores = []\n",
    "    X_source_updated = X_source\n",
    "    y_source_updated = y_source\n",
    "    for i in range(group_size):\n",
    "        subset_tf = (step * i <= dists_rank) & (dists_rank < step * (i+1))\n",
    "        X_ti = X_target[:data_size][subset_tf]\n",
    "        y_ti = y_target[:data_size][subset_tf]\n",
    "        X_target_groups.append(X_ti)\n",
    "        y_target_groups.append(y_ti)\n",
    "        X_source_updated, y_source_updated = psuedo_labeling(X_source_updated, y_source_updated, X_ti, y_ti, model, conf)\n",
    "        gradual_score = model.fit(X_source_updated, y_source_updated).score(X_target, y_target)\n",
    "        gradual_scores.append(gradual_score)\n",
    "    \n",
    "    model.fit(X_source_updated, y_source_updated)\n",
    "    gradual = model.score(X_target, y_target)\n",
    "    \n",
    "    print('{:.2f}'.format(original*100), ['{:.2f}'.format(elem*100) for elem in gradual_scores])\n",
    "    \n",
    "    return original, gradual, dists, X_target_groups"
   ]
  },
  {
   "cell_type": "code",
   "execution_count": 41,
   "metadata": {},
   "outputs": [],
   "source": [
    "def gradual_train_groups(X_source, y_source, X_target, y_target, base_model, data_size, group_range, conf=0):\n",
    "    accuracies = []\n",
    "    for i in range(group_range[0]+1, group_range[1]+1):\n",
    "        print(\"\\ngroup = \", i)\n",
    "        plot_hist = False\n",
    "        if i==1:\n",
    "            plot_hist = True\n",
    "        data_size = data_size\n",
    "        base_model = base_model\n",
    "        original, gradual, dists, X_target_groups = gradual_train(X_source, y_source, X_target, y_target, \n",
    "                                          base_model, data_size=data_size, group_size=i, plot_hist=plot_hist, conf=conf)\n",
    "        if i==1:\n",
    "            accuracies.append(original)\n",
    "            accuracies.append(gradual)\n",
    "        else:\n",
    "            accuracies.append(gradual)\n",
    "\n",
    "    plt.plot(accuracies)\n",
    "    plt.show()\n",
    "    return dists, X_target_groups"
   ]
  },
  {
   "cell_type": "code",
   "execution_count": 43,
   "metadata": {},
   "outputs": [
    {
     "name": "stdout",
     "output_type": "stream",
     "text": [
      "\n",
      "group =  1\n"
     ]
    },
    {
     "data": {
      "image/png": "[encoded data removed]",
      "text/plain": [
       "<Figure size 432x288 with 1 Axes>"
      ]
     },
     "metadata": {
      "needs_background": "light"
     },
     "output_type": "display_data"
    },
    {
     "name": "stdout",
     "output_type": "stream",
     "text": [
      "80.84 ['81.01']\n",
      "\n",
      "group =  2\n",
      "80.84 ['81.10', '81.01']\n",
      "\n",
      "group =  3\n",
      "80.84 ['81.43', '81.52', '81.43']\n"
     ]
    },
    {
     "data": {
      "image/png": "[encoded data removed]",
      "text/plain": [
       "<Figure size 432x288 with 1 Axes>"
      ]
     },
     "metadata": {
      "needs_background": "light"
     },
     "output_type": "display_data"
    }
   ],
   "source": [
    "data_size = 1185\n",
    "base_model = LogisticRegression(max_iter = 200000)\n",
    "dists_az_fi, X_target_groups_az_fi = gradual_train_groups(az2000[:1185], y_train_az[:1185], fi2000[:data_size], y_train_fi[:data_size], \n",
    "                     base_model, data_size=data_size, group_range=[0, 3], conf = 0)"
   ]
  },
  {
   "cell_type": "code",
   "execution_count": 33,
   "metadata": {},
   "outputs": [
    {
     "name": "stdout",
     "output_type": "stream",
     "text": [
      "\n",
      "group =  1\n"
     ]
    },
    {
     "data": {
      "image/png": "[encoded data removed]",
      "text/plain": [
       "<Figure size 432x288 with 1 Axes>"
      ]
     },
     "metadata": {
      "needs_background": "light"
     },
     "output_type": "display_data"
    },
    {
     "name": "stdout",
     "output_type": "stream",
     "text": [
      "85.50 ['85.25']\n"
     ]
    },
    {
     "data": {
      "image/png": "[encoded data removed]",
      "text/plain": [
       "<Figure size 432x288 with 1 Axes>"
      ]
     },
     "metadata": {
      "needs_background": "light"
     },
     "output_type": "display_data"
    }
   ],
   "source": [
    "data_size = 2000\n",
    "base_model = LogisticRegression(max_iter = 200000)\n",
    "_ = gradual_train_groups(tw3000[:data_size], y_train_tw[:data_size], tw3000[:data_size], y_train_tw[:data_size], \n",
    "                         base_model, data_size=data_size, group_range=[0, 1, 2], conf = 0)"
   ]
  },
  {
   "cell_type": "code",
   "execution_count": 51,
   "metadata": {},
   "outputs": [
    {
     "name": "stdout",
     "output_type": "stream",
     "text": [
      "\n",
      "group =  1\n"
     ]
    },
    {
     "data": {
      "image/png": "[encoded data removed]",
      "text/plain": [
       "<Figure size 432x288 with 1 Axes>"
      ]
     },
     "metadata": {
      "needs_background": "light"
     },
     "output_type": "display_data"
    },
    {
     "name": "stdout",
     "output_type": "stream",
     "text": [
      "90.95 ['90.95']\n",
      "\n",
      "group =  2\n",
      "90.95 ['90.45', '90.45']\n"
     ]
    },
    {
     "data": {
      "image/png": "[encoded data removed]",
      "text/plain": [
       "<Figure size 432x288 with 1 Axes>"
      ]
     },
     "metadata": {
      "needs_background": "light"
     },
     "output_type": "display_data"
    }
   ],
   "source": [
    "data_size = 2000\n",
    "base_model = LogisticRegression(max_iter = 200000)\n",
    "_ = gradual_train_groups(mv3000[:data_size], y_train_mv[:data_size], mv3000[:data_size], y_train_mv[:data_size], \n",
    "                         base_model, data_size=data_size, group_range=[0, 2], conf = 0)"
   ]
  },
  {
   "cell_type": "code",
   "execution_count": 644,
   "metadata": {},
   "outputs": [
    {
     "name": "stdout",
     "output_type": "stream",
     "text": [
      "\n",
      "group =  1\n"
     ]
    },
    {
     "data": {
      "image/png": "[encoded data removed]",
      "text/plain": [
       "<Figure size 432x288 with 1 Axes>"
      ]
     },
     "metadata": {
      "needs_background": "light"
     },
     "output_type": "display_data"
    },
    {
     "name": "stdout",
     "output_type": "stream",
     "text": [
      "81.75 ['81.55']\n",
      "\n",
      "group =  2\n",
      "81.75 ['81.95', '81.50']\n",
      "\n",
      "group =  3\n",
      "81.75 ['82.00', '81.70', '81.00']\n",
      "\n",
      "group =  4\n",
      "81.75 ['82.15', '81.50', '81.25', '80.90']\n",
      "\n",
      "group =  5\n",
      "81.75 ['82.15', '81.30', '80.95', '80.80', '80.55']\n",
      "\n",
      "group =  6\n",
      "81.75 ['82.05', '81.45', '80.95', '80.50', '80.30', '80.00']\n",
      "\n",
      "group =  7\n",
      "81.75 ['81.75', '81.60', '80.85', '80.50', '80.35', '80.20', '79.75']\n",
      "\n",
      "group =  8\n",
      "81.75 ['81.70', '81.60', '80.85', '80.20', '80.15', '79.75', '79.55', '79.65']\n",
      "\n",
      "group =  9\n",
      "81.75 ['81.90', '81.65', '80.85', '80.40', '80.35', '79.85', '79.40', '79.50', '79.45']\n",
      "\n",
      "group =  10\n",
      "81.75 ['81.95', '81.65', '81.50', '80.85', '80.15', '80.45', '80.20', '80.10', '80.05', '79.80']\n",
      "\n",
      "group =  11\n",
      "81.75 ['81.70', '81.65', '81.55', '80.65', '80.15', '79.95', '79.85', '79.35', '79.25', '79.00', '79.05']\n",
      "\n",
      "group =  12\n",
      "81.75 ['81.45', '81.55', '81.25', '80.55', '80.10', '79.60', '79.85', '79.40', '78.85', '78.70', '78.80', '78.60']\n",
      "\n",
      "group =  13\n",
      "81.75 ['81.80', '81.15', '81.20', '80.55', '80.50', '79.30', '79.30', '79.05', '78.90', '78.65', '78.70', '78.80', '78.40']\n",
      "\n",
      "group =  14\n",
      "81.75 ['81.70', '80.95', '80.55', '80.15', '79.85', '79.70', '78.85', '79.20', '78.65', '78.30', '78.10', '78.10', '78.05', '78.05']\n",
      "\n",
      "group =  15\n",
      "81.75 ['81.65', '80.60', '80.50', '79.95', '79.55', '79.35', '78.30', '78.10', '78.20', '77.55', '77.45', '77.40', '77.35', '77.30', '77.10']\n",
      "\n",
      "group =  16\n",
      "81.75 ['81.95', '80.45', '80.30', '79.95', '79.90', '79.05', '78.30', '77.80', '78.35', '77.40', '77.30', '77.15', '77.10', '77.05', '77.10', '77.05']\n",
      "\n",
      "group =  17\n",
      "81.75 ['81.95', '80.65', '80.35', '80.50', '79.75', '79.05', '78.40', '78.10', '78.25', '78.20', '77.75', '77.40', '77.10', '77.00', '77.10', '76.95', '76.70']\n",
      "\n",
      "group =  18\n",
      "81.75 ['81.70', '80.85', '80.30', '80.00', '79.45', '79.20', '78.70', '77.80', '77.70', '78.15', '77.65', '77.45', '77.40', '77.20', '77.05', '76.85', '76.90', '76.55']\n",
      "\n",
      "group =  19\n",
      "81.75 ['81.60', '80.80', '80.25', '79.85', '79.50', '79.20', '78.45', '78.05', '77.80', '77.85', '77.90', '77.45', '77.00', '76.80', '76.25', '76.20', '76.05', '76.10', '76.00']\n",
      "\n",
      "group =  20\n",
      "81.75 ['81.60', '81.00', '80.30', '79.95', '79.70', '79.00', '78.70', '78.05', '77.75', '77.20', '77.60', '77.35', '76.80', '76.45', '76.40', '76.20', '76.15', '76.50', '76.05', '76.00']\n",
      "\n",
      "group =  21\n",
      "81.75 ['81.55', '81.00', '80.55', '80.15', '79.45', '79.15', '78.75', '78.30', '77.95', '77.35', '77.50', '77.55', '76.95', '76.50', '76.65', '76.30', '75.95', '75.90', '76.00', '75.60', '75.60']\n",
      "\n",
      "group =  22\n",
      "81.75 ['81.60', '81.30', '80.50', '80.20', '79.70', '79.20', '78.95', '78.50', '78.10', '77.75', '77.10', '77.65', '77.75', '76.95', '77.10', '77.10', '76.75', '76.40', '76.45', '76.35', '76.35', '76.15']\n",
      "\n",
      "group =  23\n",
      "81.75 ['81.65', '81.05', '80.05', '80.00', '79.50', '79.10', '79.00', '78.80', '78.40', '77.75', '77.40', '77.70', '77.60', '77.15', '76.90', '76.95', '77.10', '76.50', '76.40', '76.35', '76.25', '76.30', '76.20']\n",
      "\n",
      "group =  24\n",
      "81.75 ['81.80', '81.05', '79.95', '80.10', '79.80', '79.55', '79.05', '78.70', '77.95', '77.75', '77.15', '76.60', '76.80', '76.55', '76.40', '76.05', '76.05', '76.05', '75.85', '75.55', '75.40', '75.80', '75.65', '75.60']\n",
      "\n",
      "group =  25\n",
      "81.75 ['81.65', '81.30', '80.25', '80.15', '79.85', '79.70', '78.95', '78.85', '78.70', '78.45', '77.65', '77.30', '77.40', '77.45', '77.55', '76.95', '77.20', '76.95', '76.70', '76.55', '76.70', '76.60', '76.45', '76.60', '76.35']\n",
      "\n",
      "group =  26\n",
      "81.75 ['81.65', '81.20', '80.50', '80.50', '80.30', '79.70', '79.50', '78.95', '79.00', '78.75', '78.25', '77.50', '77.30', '77.65', '77.80', '77.20', '77.05', '76.95', '76.85', '76.70', '76.45', '76.40', '76.35', '76.50', '76.45', '76.30']\n",
      "\n",
      "group =  27\n",
      "81.75 ['81.60', '81.10', '80.65', '80.45', '80.05', '79.70', '79.50', '79.15', '78.80', '78.60', '78.15', '77.60', '77.35', '77.60', '77.55', '77.55', '77.20', '77.30', '77.15', '77.40', '77.10', '76.95', '77.00', '76.90', '76.70', '76.65', '76.60']\n",
      "\n",
      "group =  28\n",
      "81.75 ['81.25', '81.05', '80.45', '80.00', '79.75', '79.55', '79.30', '78.90', '78.95', '78.30', '78.30', '77.85', '77.35', '76.90', '77.25', '77.30', '76.70', '76.55', '76.55', '76.55', '76.60', '76.30', '76.15', '76.05', '76.20', '76.00', '75.80', '75.85']\n",
      "\n",
      "group =  29\n",
      "81.75 ['81.30', '81.20', '80.55', '79.80', '79.80', '79.50', '79.40', '78.75', '78.40', '78.05', '77.35', '77.15', '76.65', '76.40', '76.60', '76.65', '76.25', '76.10', '75.95', '75.75', '75.55', '75.65', '75.65', '75.20', '75.15', '75.05', '75.10', '75.10', '75.15']\n",
      "\n",
      "group =  30\n",
      "81.75 ['81.40', '81.15', '80.40', '79.65', '79.35', '79.25', '79.05', '78.45', '78.10', '77.95', '77.35', '77.40', '77.00', '76.50', '76.15', '76.20', '76.40', '76.30', '75.85', '75.50', '75.35', '75.35', '75.15', '74.95', '74.80', '74.60', '74.75', '74.75', '74.75', '74.65']\n"
     ]
    },
    {
     "data": {
      "image/png": "[encoded data removed]",
      "text/plain": [
       "<Figure size 432x288 with 1 Axes>"
      ]
     },
     "metadata": {
      "needs_background": "light"
     },
     "output_type": "display_data"
    }
   ],
   "source": [
    "data_size = 2000\n",
    "base_model = LogisticRegression(max_iter = 200000)\n",
    "_ = gradual_train_groups(output_train_az[:data_size], y_train_az[:data_size], output_train_mv[:data_size], y_train_mv[:data_size], \n",
    "                                      base_model, data_size=data_size, group_range=[0, 30], conf = 0.1)"
   ]
  },
  {
   "cell_type": "code",
   "execution_count": 645,
   "metadata": {},
   "outputs": [
    {
     "name": "stdout",
     "output_type": "stream",
     "text": [
      "\n",
      "group =  1\n"
     ]
    },
    {
     "data": {
      "image/png": "[encoded data removed]",
      "text/plain": [
       "<Figure size 432x288 with 1 Axes>"
      ]
     },
     "metadata": {
      "needs_background": "light"
     },
     "output_type": "display_data"
    },
    {
     "name": "stdout",
     "output_type": "stream",
     "text": [
      "81.75 ['81.50']\n",
      "\n",
      "group =  2\n",
      "81.75 ['82.00', '81.95']\n",
      "\n",
      "group =  3\n",
      "81.75 ['81.85', '81.25', '81.10']\n",
      "\n",
      "group =  4\n",
      "81.75 ['82.55', '81.75', '81.40', '81.20']\n",
      "\n",
      "group =  5\n",
      "81.75 ['82.15', '81.60', '81.45', '81.50', '81.35']\n",
      "\n",
      "group =  6\n",
      "81.75 ['82.05', '81.50', '81.05', '81.05', '81.10', '81.10']\n",
      "\n",
      "group =  7\n",
      "81.75 ['82.35', '81.75', '81.85', '81.65', '81.70', '81.70', '81.55']\n",
      "\n",
      "group =  8\n",
      "81.75 ['82.05', '81.10', '81.10', '80.75', '80.60', '80.75', '81.00', '80.90']\n",
      "\n",
      "group =  9\n",
      "81.75 ['82.10', '81.85', '81.65', '81.65', '81.45', '81.15', '81.35', '81.40', '81.40']\n",
      "\n",
      "group =  10\n",
      "81.75 ['81.85', '81.60', '81.40', '81.70', '81.60', '81.65', '81.20', '81.30', '81.25', '81.25']\n",
      "\n",
      "group =  11\n",
      "81.75 ['81.65', '81.35', '80.90', '80.65', '80.50', '80.40', '80.40', '80.70', '80.55', '80.20', '80.40']\n",
      "\n",
      "group =  12\n",
      "81.75 ['81.60', '81.60', '80.45', '80.30', '80.15', '79.75', '80.00', '79.75', '79.40', '79.45', '79.45', '79.40']\n",
      "\n",
      "group =  13\n",
      "81.75 ['81.50', '81.30', '80.65', '80.15', '80.10', '79.30', '79.70', '79.65', '79.45', '79.55', '79.45', '79.50', '79.50']\n",
      "\n",
      "group =  14\n",
      "81.75 ['81.75', '80.55', '80.15', '79.80', '79.35', '78.95', '78.15', '78.55', '78.30', '78.20', '78.10', '78.10', '78.10', '78.15']\n",
      "\n",
      "group =  15\n",
      "81.75 ['81.80', '80.50', '80.15', '79.75', '79.40', '79.00', '78.90', '79.00', '78.75', '78.40', '78.30', '78.15', '78.10', '78.20', '78.20']\n",
      "\n",
      "group =  16\n",
      "81.75 ['81.55', '80.80', '80.35', '79.70', '79.20', '78.85', '78.55', '78.30', '78.40', '78.40', '78.45', '78.05', '78.05', '77.95', '77.95', '77.90']\n",
      "\n",
      "group =  17\n",
      "81.75 ['81.60', '81.00', '80.60', '80.60', '79.75', '79.30', '78.70', '78.45', '78.90', '78.80', '78.55', '78.45', '78.25', '78.25', '78.20', '78.20', '78.20']\n",
      "\n",
      "group =  18\n",
      "81.75 ['81.70', '80.55', '80.55', '80.15', '79.20', '78.80', '78.40', '78.00', '77.50', '77.80', '77.50', '77.10', '76.85', '76.65', '76.70', '76.50', '76.45', '76.45']\n",
      "\n",
      "group =  19\n",
      "81.75 ['81.80', '80.70', '80.25', '80.20', '79.30', '78.75', '78.65', '78.45', '78.05', '78.15', '78.05', '77.80', '77.60', '77.40', '77.30', '77.25', '77.25', '77.30', '77.30']\n",
      "\n",
      "group =  20\n",
      "81.75 ['81.80', '80.85', '80.20', '80.00', '79.40', '79.00', '78.85', '78.55', '77.90', '77.60', '78.05', '77.70', '77.45', '77.15', '76.85', '76.80', '76.90', '76.85', '76.80', '76.70']\n",
      "\n",
      "group =  21\n",
      "81.75 ['81.70', '80.75', '80.20', '80.15', '79.95', '79.15', '78.85', '78.35', '78.20', '77.85', '78.25', '77.90', '77.75', '77.25', '77.20', '77.05', '76.80', '76.70', '76.70', '76.55', '76.55']\n",
      "\n",
      "group =  22\n",
      "81.75 ['81.85', '80.95', '80.15', '80.35', '80.10', '78.95', '78.85', '78.75', '78.65', '78.30', '77.80', '77.70', '77.75', '77.40', '77.25', '77.10', '76.90', '76.75', '76.75', '76.70', '76.70', '76.70']\n",
      "\n",
      "group =  23\n",
      "81.75 ['81.80', '81.20', '79.95', '79.90', '79.70', '78.90', '78.20', '78.35', '77.65', '77.30', '76.95', '76.85', '76.70', '76.70', '76.40', '76.15', '75.95', '75.80', '75.80', '75.75', '75.75', '75.80', '75.75']\n",
      "\n",
      "group =  24\n",
      "81.75 ['81.75', '81.05', '80.55', '80.60', '80.00', '79.40', '78.65', '78.50', '77.95', '77.75', '77.80', '77.55', '77.65', '77.45', '77.00', '76.85', '76.60', '76.40', '76.30', '76.15', '76.05', '76.15', '76.10', '76.15']\n",
      "\n",
      "group =  25\n",
      "81.75 ['81.70', '81.30', '80.35', '80.50', '79.75', '80.00', '79.30', '78.75', '78.60', '78.30', '78.00', '77.70', '77.85', '77.70', '77.55', '77.30', '76.80', '76.50', '76.50', '76.30', '76.30', '76.35', '76.20', '76.20', '76.20']\n",
      "\n",
      "group =  26\n",
      "81.75 ['81.60', '81.20', '80.45', '80.15', '79.90', '80.30', '79.55', '78.65', '78.75', '78.35', '78.10', '77.65', '77.65', '77.90', '78.10', '77.45', '77.25', '77.20', '76.85', '76.55', '76.35', '76.35', '76.25', '76.10', '76.10', '76.10']\n",
      "\n",
      "group =  27\n",
      "81.75 ['81.55', '81.20', '80.65', '80.25', '79.90', '80.15', '79.50', '79.05', '78.60', '79.00', '78.65', '78.45', '77.90', '78.10', '78.35', '77.85', '77.50', '77.40', '77.35', '77.15', '76.85', '76.75', '76.90', '76.70', '76.75', '76.70', '76.85']\n",
      "\n",
      "group =  28\n",
      "81.75 ['81.50', '81.65', '80.65', '80.25', '80.00', '80.05', '79.40', '78.85', '78.45', '78.85', '78.60', '78.20', '77.90', '77.75', '77.85', '77.90', '77.65', '77.35', '76.95', '76.70', '76.65', '76.50', '76.50', '76.50', '76.45', '76.35', '76.40', '76.40']\n",
      "\n",
      "group =  29\n",
      "81.75 ['81.45', '81.60', '80.70', '80.00', '80.00', '79.85', '80.20', '79.30', '78.70', '78.90', '78.20', '78.20', '77.95', '77.45', '77.30', '77.40', '77.35', '77.05', '76.60', '76.55', '76.20', '76.25', '75.90', '75.95', '76.00', '75.80', '75.75', '75.75', '75.65']\n",
      "\n",
      "group =  30\n",
      "81.75 ['81.50', '81.60', '80.85', '80.15', '80.55', '80.00', '80.00', '79.10', '79.00', '78.85', '78.40', '78.65', '78.40', '78.05', '77.80', '78.25', '77.95', '78.15', '77.80', '77.60', '77.90', '77.70', '77.65', '77.50', '77.55', '77.55', '77.55', '77.55', '77.50', '77.50']\n"
     ]
    },
    {
     "data": {
      "image/png": "[encoded data removed]",
      "text/plain": [
       "<Figure size 432x288 with 1 Axes>"
      ]
     },
     "metadata": {
      "needs_background": "light"
     },
     "output_type": "display_data"
    }
   ],
   "source": [
    "data_size = 2000\n",
    "base_model = LogisticRegression(max_iter = 200000)\n",
    "dists_az_mv, X_target_groups_az_mv = gradual_train_groups(output_train_az[:data_size], y_train_az[:data_size], output_train_mv[:data_size], y_train_mv[:data_size], \n",
    "                                      base_model, data_size=data_size, group_range=[0, 30], conf = 0)"
   ]
  },
  {
   "cell_type": "code",
   "execution_count": 653,
   "metadata": {},
   "outputs": [
    {
     "name": "stdout",
     "output_type": "stream",
     "text": [
      "\n",
      "group =  1\n"
     ]
    },
    {
     "data": {
      "image/png": "[encoded data removed]",
      "text/plain": [
       "<Figure size 432x288 with 1 Axes>"
      ]
     },
     "metadata": {
      "needs_background": "light"
     },
     "output_type": "display_data"
    },
    {
     "name": "stdout",
     "output_type": "stream",
     "text": [
      "81.30 ['81.40']\n",
      "\n",
      "group =  2\n",
      "81.30 ['81.50', '80.87']\n",
      "\n",
      "group =  3\n",
      "81.30 ['81.70', '81.53', '81.00']\n",
      "\n",
      "group =  4\n",
      "81.30 ['81.87', '81.50', '81.27', '80.97']\n",
      "\n",
      "group =  5\n",
      "81.30 ['82.17', '81.40', '80.83', '80.73', '80.47']\n",
      "\n",
      "group =  6\n",
      "81.30 ['82.00', '81.93', '80.93', '80.87', '80.93', '80.63']\n",
      "\n",
      "group =  7\n",
      "81.30 ['81.93', '81.73', '80.90', '80.47', '80.53', '80.30', '80.40']\n",
      "\n",
      "group =  8\n",
      "81.30 ['81.83', '81.27', '80.70', '80.17', '80.33', '80.10', '79.57', '79.40']\n",
      "\n",
      "group =  9\n",
      "81.30 ['81.93', '81.63', '81.27', '80.53', '80.47', '80.13', '79.97', '79.73', '79.63']\n",
      "\n",
      "group =  10\n",
      "81.30 ['82.10', '81.50', '81.40', '80.63', '80.20', '80.40', '80.20', '79.80', '79.57', '79.37']\n",
      "\n",
      "group =  11\n",
      "81.30 ['81.83', '81.40', '80.87', '80.67', '79.77', '80.13', '79.87', '79.57', '79.50', '79.20', '79.20']\n",
      "\n",
      "group =  12\n",
      "81.30 ['81.87', '81.20', '80.57', '80.40', '79.97', '79.43', '79.77', '79.43', '78.77', '79.10', '78.90', '78.90']\n",
      "\n",
      "group =  13\n",
      "81.30 ['81.80', '81.20', '80.97', '80.43', '79.87', '79.03', '79.40', '79.17', '78.80', '78.73', '78.57', '78.47', '78.23']\n",
      "\n",
      "group =  14\n",
      "81.30 ['81.83', '81.23', '80.43', '80.27', '79.83', '79.17', '79.13', '79.10', '78.97', '78.97', '78.73', '78.53', '78.13', '78.13']\n",
      "\n",
      "group =  15\n",
      "81.30 ['81.80', '80.73', '80.47', '80.07', '80.03', '79.33', '79.00', '79.17', '78.77', '78.83', '78.57', '78.37', '78.13', '77.80', '77.77']\n",
      "\n",
      "group =  16\n",
      "81.30 ['81.70', '80.47', '80.13', '79.97', '79.83', '79.53', '78.93', '78.77', '78.83', '78.67', '78.10', '78.03', '77.93', '77.67', '77.63', '77.60']\n",
      "\n",
      "group =  17\n",
      "81.30 ['81.83', '80.73', '80.50', '80.00', '79.93', '79.63', '79.30', '79.10', '79.03', '79.07', '78.80', '78.63', '78.33', '78.17', '77.93', '77.87', '77.70']\n",
      "\n",
      "group =  18\n",
      "81.30 ['81.83', '81.23', '80.57', '80.60', '80.20', '80.20', '79.60', '79.20', '79.07', '79.07', '78.87', '78.90', '78.67', '78.47', '78.23', '78.13', '77.90', '78.00']\n",
      "\n",
      "group =  19\n",
      "81.30 ['82.00', '81.33', '80.63', '80.37', '80.00', '79.73', '79.50', '78.87', '78.80', '78.70', '78.63', '78.40', '78.20', '78.10', '77.77', '77.73', '77.67', '77.53', '77.50']\n",
      "\n",
      "group =  20\n",
      "81.30 ['81.77', '81.43', '80.97', '80.37', '80.30', '80.00', '79.63', '79.30', '79.13', '78.97', '79.23', '79.07', '78.80', '78.50', '78.27', '78.07', '78.10', '77.97', '77.77', '77.70']\n",
      "\n",
      "group =  21\n",
      "81.30 ['81.77', '81.23', '80.53', '80.10', '79.93', '79.70', '79.60', '79.23', '78.87', '78.67', '78.50', '78.57', '78.53', '78.20', '78.07', '77.93', '77.87', '77.83', '77.73', '77.53', '77.47']\n",
      "\n",
      "group =  22\n",
      "81.30 ['81.87', '81.10', '80.30', '80.17', '80.30', '79.97', '79.70', '79.40', '78.90', '78.77', '78.57', '78.60', '78.33', '78.17', '77.73', '77.80', '77.77', '77.67', '77.47', '77.37', '77.47', '77.37']\n",
      "\n",
      "group =  23\n",
      "81.30 ['81.73', '81.27', '80.40', '80.37', '80.23', '80.07', '79.90', '79.50', '78.93', '78.83', '78.60', '78.50', '78.47', '78.43', '78.10', '77.87', '77.87', '77.70', '77.67', '77.57', '77.47', '77.50', '77.50']\n",
      "\n",
      "group =  24\n",
      "81.30 ['81.97', '80.90', '80.00', '80.00', '79.83', '79.70', '79.67', '79.23', '78.90', '78.67', '78.37', '78.40', '78.40', '78.40', '78.23', '78.13', '77.73', '77.50', '77.47', '77.40', '77.43', '77.33', '77.43', '77.33']\n",
      "\n",
      "group =  25\n",
      "81.30 ['81.97', '81.47', '79.97', '80.03', '80.03', '79.50', '79.43', '79.33', '79.10', '78.60', '78.27', '78.33', '78.23', '78.30', '78.30', '77.87', '77.67', '77.57', '77.57', '77.33', '77.57', '77.37', '77.27', '77.23', '77.47']\n",
      "\n",
      "group =  26\n",
      "81.30 ['81.97', '81.80', '80.17', '80.13', '79.97', '80.10', '79.90', '79.33', '79.13', '78.77', '78.60', '78.37', '78.33', '78.40', '78.27', '78.13', '78.10', '77.70', '77.73', '77.50', '77.43', '77.40', '77.33', '77.40', '77.47', '77.37']\n",
      "\n",
      "group =  27\n",
      "81.30 ['81.87', '81.87', '80.47', '80.03', '80.10', '80.27', '79.73', '79.87', '79.50', '79.23', '79.03', '78.70', '78.53', '78.43', '78.57', '78.53', '78.33', '78.13', '77.87', '77.83', '77.70', '77.67', '77.70', '77.53', '77.43', '77.47', '77.47']\n",
      "\n",
      "group =  28\n",
      "81.30 ['81.93', '81.90', '80.57', '80.10', '80.10', '79.73', '79.73', '79.60', '79.30', '79.00', '78.73', '78.43', '78.40', '78.30', '78.33', '78.23', '78.20', '78.03', '77.80', '77.83', '77.57', '77.47', '77.30', '77.30', '77.23', '77.20', '77.17', '77.13']\n",
      "\n",
      "group =  29\n",
      "81.30 ['81.97', '81.93', '80.60', '80.13', '80.03', '79.83', '79.47', '79.47', '79.30', '78.97', '78.70', '78.60', '78.53', '78.20', '78.37', '78.17', '78.30', '77.87', '77.70', '77.53', '77.50', '77.27', '77.17', '77.17', '77.20', '77.20', '77.03', '77.07', '77.07']\n",
      "\n",
      "group =  30\n",
      "81.30 ['81.90', '81.80', '80.77', '79.97', '79.97', '79.93', '79.50', '79.47', '79.27', '79.07', '78.67', '78.57', '78.40', '78.23', '78.00', '78.17', '78.20', '78.10', '77.73', '77.67', '77.40', '77.43', '77.30', '77.37', '77.17', '77.27', '77.13', '76.97', '76.97', '76.80']\n"
     ]
    },
    {
     "data": {
      "image/png": "[encoded data removed]",
      "text/plain": [
       "<Figure size 432x288 with 1 Axes>"
      ]
     },
     "metadata": {
      "needs_background": "light"
     },
     "output_type": "display_data"
    }
   ],
   "source": [
    "data_size = 3000\n",
    "base_model = LogisticRegression(max_iter = 200000)\n",
    "_  = gradual_train_groups(az3000[:data_size], y_train_az[:data_size], mv3000[:data_size], y_train_mv[:data_size], \n",
    "                     base_model, data_size=data_size, group_range=[0, 30], conf = 0.1)"
   ]
  },
  {
   "cell_type": "code",
   "execution_count": 654,
   "metadata": {},
   "outputs": [
    {
     "name": "stdout",
     "output_type": "stream",
     "text": [
      "\n",
      "group =  1\n"
     ]
    },
    {
     "data": {
      "image/png": "[encoded data removed]",
      "text/plain": [
       "<Figure size 432x288 with 1 Axes>"
      ]
     },
     "metadata": {
      "needs_background": "light"
     },
     "output_type": "display_data"
    },
    {
     "name": "stdout",
     "output_type": "stream",
     "text": [
      "81.30 ['81.67']\n",
      "\n",
      "group =  2\n",
      "81.30 ['81.20', '80.97']\n",
      "\n",
      "group =  3\n",
      "81.30 ['81.60', '81.17', '81.03']\n",
      "\n",
      "group =  4\n",
      "81.30 ['81.80', '81.43', '81.43', '81.33']\n",
      "\n",
      "group =  5\n",
      "81.30 ['81.73', '81.57', '81.03', '80.93', '80.93']\n",
      "\n",
      "group =  6\n",
      "81.30 ['81.93', '82.23', '81.27', '81.40', '80.87', '80.77']\n",
      "\n",
      "group =  7\n",
      "81.30 ['81.63', '81.67', '81.07', '80.90', '80.77', '80.70', '80.57']\n",
      "\n",
      "group =  8\n",
      "81.30 ['81.70', '81.50', '81.03', '80.47', '80.83', '80.50', '80.47', '80.43']\n",
      "\n",
      "group =  9\n",
      "81.30 ['81.97', '82.00', '81.70', '81.00', '81.40', '81.07', '80.83', '80.67', '80.80']\n",
      "\n",
      "group =  10\n",
      "81.30 ['82.13', '82.13', '82.20', '81.80', '81.37', '81.37', '81.20', '80.63', '80.47', '80.57']\n",
      "\n",
      "group =  11\n",
      "81.30 ['81.97', '82.10', '81.60', '81.53', '80.77', '80.67', '80.73', '80.67', '80.40', '80.37', '80.37']\n",
      "\n",
      "group =  12\n",
      "81.30 ['82.00', '82.00', '81.97', '81.57', '80.97', '80.57', '80.90', '80.77', '80.93', '80.77', '80.73', '80.67']\n",
      "\n",
      "group =  13\n",
      "81.30 ['82.23', '81.80', '81.60', '81.70', '80.90', '80.63', '80.67', '80.60', '80.50', '80.33', '80.30', '80.20', '80.17']\n",
      "\n",
      "group =  14\n",
      "81.30 ['82.03', '82.00', '81.20', '81.53', '80.97', '80.93', '80.47', '80.80', '80.47', '80.53', '80.33', '80.13', '80.07', '80.10']\n",
      "\n",
      "group =  15\n",
      "81.30 ['81.93', '81.53', '81.23', '81.07', '80.70', '80.37', '80.03', '79.67', '79.43', '79.27', '78.90', '78.90', '78.60', '78.47', '78.43']\n",
      "\n",
      "group =  16\n",
      "81.30 ['81.80', '81.77', '81.17', '81.13', '81.27', '80.60', '80.33', '80.17', '80.17', '79.73', '79.70', '79.60', '79.50', '79.33', '79.27', '79.30']\n",
      "\n",
      "group =  17\n",
      "81.30 ['81.97', '81.90', '81.47', '81.37', '81.37', '80.93', '80.83', '79.93', '79.83', '79.87', '79.57', '79.63', '79.53', '79.40', '79.30', '79.33', '79.30']\n",
      "\n",
      "group =  18\n",
      "81.30 ['81.90', '82.07', '81.57', '81.57', '81.07', '80.90', '80.50', '80.23', '79.77', '79.93', '79.67', '79.30', '79.13', '78.87', '78.70', '78.73', '78.60', '78.60']\n",
      "\n",
      "group =  19\n",
      "81.30 ['82.00', '81.97', '81.67', '81.37', '80.87', '80.77', '80.23', '80.33', '79.63', '79.70', '79.87', '79.73', '79.30', '79.23', '79.07', '79.13', '79.17', '79.20', '79.13']\n",
      "\n",
      "group =  20\n",
      "81.30 ['81.93', '81.70', '81.60', '81.20', '80.70', '80.27', '80.03', '80.03', '79.67', '79.23', '79.43', '79.17', '78.70', '78.70', '78.53', '78.40', '78.40', '78.37', '78.33', '78.40']\n",
      "\n",
      "group =  21\n",
      "81.30 ['82.00', '81.33', '81.30', '81.13', '80.77', '80.60', '80.17', '79.53', '79.73', '79.23', '79.27', '79.20', '79.13', '78.93', '78.90', '78.90', '78.70', '78.60', '78.53', '78.50', '78.33']\n",
      "\n",
      "group =  22\n",
      "81.30 ['82.03', '80.90', '80.53', '80.37', '79.83', '79.87', '79.40', '79.23', '78.83', '78.57', '78.23', '78.63', '78.23', '77.93', '77.87', '77.80', '77.73', '77.73', '77.60', '77.50', '77.53', '77.57']\n",
      "\n",
      "group =  23\n",
      "81.30 ['82.13', '81.27', '80.63', '80.37', '79.93', '79.67', '79.43', '79.27', '78.97', '78.63', '78.40', '78.30', '78.20', '77.97', '77.67', '77.50', '77.43', '77.37', '77.17', '77.20', '77.27', '77.10', '77.17']\n",
      "\n",
      "group =  24\n",
      "81.30 ['82.07', '81.33', '80.40', '80.03', '80.07', '79.63', '79.47', '79.20', '78.90', '78.23', '77.87', '77.67', '77.93', '77.93', '77.63', '77.53', '77.37', '77.27', '76.93', '76.87', '77.03', '76.83', '76.90', '76.90']\n",
      "\n",
      "group =  25\n",
      "81.30 ['82.07', '81.33', '80.17', '79.73', '79.73', '79.50', '79.40', '79.00', '78.87', '78.73', '78.27', '78.03', '78.20', '78.20', '78.10', '77.97', '77.90', '77.73', '77.70', '77.77', '77.63', '77.57', '77.50', '77.57', '77.47']\n",
      "\n",
      "group =  26\n",
      "81.30 ['82.03', '81.47', '80.37', '79.97', '79.83', '79.67', '79.57', '79.23', '78.80', '78.67', '78.60', '78.33', '78.07', '77.97', '78.03', '77.77', '77.63', '77.50', '77.30', '77.27', '77.23', '77.10', '77.00', '77.00', '76.90', '77.00']\n",
      "\n",
      "group =  27\n",
      "81.30 ['82.10', '81.57', '80.47', '80.60', '80.07', '79.80', '79.77', '79.60', '79.03', '78.73', '78.47', '77.93', '77.80', '77.63', '77.63', '77.60', '77.30', '77.07', '77.07', '77.00', '76.77', '76.93', '76.73', '76.63', '76.63', '76.67', '76.70']\n",
      "\n",
      "group =  28\n",
      "81.30 ['82.10', '81.73', '80.53', '80.60', '80.23', '79.93', '79.70', '79.63', '79.03', '78.93', '78.63', '78.20', '77.90', '77.83', '77.97', '77.77', '77.87', '77.57', '77.37', '77.30', '77.20', '77.13', '77.27', '77.10', '77.03', '77.07', '77.00', '77.03']\n",
      "\n",
      "group =  29\n",
      "81.30 ['82.23', '81.83', '80.93', '80.07', '79.87', '79.87', '79.43', '79.57', '79.13', '78.97', '78.77', '78.63', '78.27', '77.97', '78.20', '78.43', '78.10', '77.97', '77.93', '77.63', '77.53', '77.40', '77.37', '77.30', '77.30', '77.27', '77.30', '77.30', '77.27']\n",
      "\n",
      "group =  30\n",
      "81.30 ['82.10', '81.97', '81.07', '80.00', '80.10', '80.07', '79.97', '79.50', '79.47', '79.10', '78.83', '78.60', '78.57', '78.30', '78.03', '77.90', '77.90', '77.73', '77.53', '77.43', '77.43', '77.33', '77.17', '77.07', '77.03', '77.03', '77.13', '77.03', '77.00', '77.00']\n"
     ]
    },
    {
     "data": {
      "image/png": "[encoded data removed]",
      "text/plain": [
       "<Figure size 432x288 with 1 Axes>"
      ]
     },
     "metadata": {
      "needs_background": "light"
     },
     "output_type": "display_data"
    }
   ],
   "source": [
    "data_size = 3000\n",
    "base_model = LogisticRegression(max_iter = 200000)\n",
    "_ = gradual_train_groups(az3000[:data_size], y_train_az[:data_size], mv3000[:data_size], y_train_mv[:data_size], \n",
    "                     base_model, data_size=data_size, group_range=[0, 30], conf = 0)"
   ]
  },
  {
   "cell_type": "code",
   "execution_count": 648,
   "metadata": {},
   "outputs": [
    {
     "name": "stdout",
     "output_type": "stream",
     "text": [
      "\n",
      "group =  1\n"
     ]
    },
    {
     "data": {
      "image/png": "[encoded data removed]",
      "text/plain": [
       "<Figure size 432x288 with 1 Axes>"
      ]
     },
     "metadata": {
      "needs_background": "light"
     },
     "output_type": "display_data"
    },
    {
     "name": "stdout",
     "output_type": "stream",
     "text": [
      "80.84 ['81.27']\n",
      "\n",
      "group =  2\n",
      "80.84 ['81.27', '80.93']\n",
      "\n",
      "group =  3\n",
      "80.84 ['81.60', '81.86', '81.27']\n",
      "\n",
      "group =  4\n",
      "80.84 ['81.43', '81.10', '81.77', '81.01']\n",
      "\n",
      "group =  5\n",
      "80.84 ['81.69', '81.35', '81.43', '81.35', '81.27']\n",
      "\n",
      "group =  6\n",
      "80.84 ['81.69', '81.43', '81.10', '81.35', '81.27', '81.18']\n",
      "\n",
      "group =  7\n",
      "80.84 ['81.77', '80.68', '81.52', '81.01', '80.93', '80.76', '80.42']\n",
      "\n",
      "group =  8\n",
      "80.84 ['81.69', '81.10', '81.69', '81.69', '81.94', '82.19', '81.69', '81.43']\n",
      "\n",
      "group =  9\n",
      "80.84 ['81.43', '82.03', '82.03', '82.19', '82.62', '82.45', '82.70', '82.19', '82.28']\n",
      "\n",
      "group =  10\n",
      "80.84 ['81.18', '82.28', '81.60', '81.52', '81.43', '81.60', '81.94', '81.94', '82.11', '81.86']\n",
      "\n",
      "group =  11\n",
      "80.84 ['80.51', '81.86', '81.52', '81.43', '81.52', '81.10', '81.86', '81.94', '81.60', '80.93', '80.93']\n",
      "\n",
      "group =  12\n",
      "80.84 ['80.76', '81.52', '81.60', '81.94', '81.43', '81.35', '81.60', '81.35', '81.43', '81.77', '81.52', '81.27']\n",
      "\n",
      "group =  13\n",
      "80.84 ['81.52', '81.60', '81.86', '81.94', '81.60', '81.52', '81.60', '82.03', '82.36', '81.43', '81.43', '81.27', '81.43']\n",
      "\n",
      "group =  14\n",
      "80.84 ['81.52', '81.77', '81.94', '81.69', '81.43', '81.43', '81.69', '81.35', '81.52', '81.86', '81.52', '81.69', '81.43', '81.27']\n",
      "\n",
      "group =  15\n",
      "80.84 ['81.35', '81.69', '81.43', '81.18', '81.94', '81.60', '81.60', '81.52', '81.60', '81.69', '81.52', '81.77', '81.35', '81.43', '81.10']\n",
      "\n",
      "group =  16\n",
      "80.84 ['81.35', '81.69', '81.35', '81.60', '81.43', '81.27', '81.43', '81.60', '81.10', '81.52', '81.18', '81.60', '81.60', '81.18', '80.84', '81.18']\n",
      "\n",
      "group =  17\n",
      "80.84 ['81.35', '81.60', '81.94', '82.11', '82.11', '81.86', '81.52', '81.43', '81.52', '81.43', '81.35', '81.35', '80.84', '80.93', '81.35', '81.27', '81.35']\n",
      "\n",
      "group =  18\n",
      "80.84 ['81.35', '81.35', '81.52', '81.94', '81.77', '81.94', '81.43', '81.10', '81.35', '81.18', '81.27', '81.18', '81.18', '81.27', '80.76', '80.93', '80.68', '80.59']\n",
      "\n",
      "group =  19\n",
      "80.84 ['81.77', '80.93', '82.45', '82.03', '82.03', '81.94', '81.77', '81.86', '81.60', '81.77', '81.86', '82.45', '82.28', '82.28', '82.03', '82.03', '81.94', '81.94', '82.03']\n",
      "\n",
      "group =  20\n",
      "80.84 ['81.52', '81.18', '81.86', '82.03', '81.69', '81.18', '81.94', '81.01', '81.35', '81.43', '81.43', '81.69', '81.86', '82.03', '82.03', '81.77', '81.77', '81.86', '81.77', '81.18']\n",
      "\n",
      "group =  21\n",
      "80.84 ['81.60', '82.28', '82.78', '82.53', '82.53', '81.69', '81.86', '81.69', '81.69', '81.69', '81.86', '81.69', '81.43', '81.94', '82.11', '81.86', '81.94', '82.19', '82.11', '81.94', '81.86']\n",
      "\n",
      "group =  22\n",
      "80.84 ['81.69', '80.42', '81.43', '82.03', '81.86', '81.27', '81.35', '81.18', '81.52', '81.18', '81.52', '80.84', '81.86', '81.86', '81.18', '81.43', '81.60', '81.52', '81.10', '80.93', '80.93', '81.01']\n",
      "\n",
      "group =  23\n",
      "80.84 ['81.52', '81.18', '81.77', '82.11', '82.03', '81.35', '81.77', '81.69', '81.43', '81.60', '81.77', '81.69', '81.27', '81.52', '81.43', '81.35', '81.35', '81.52', '81.27', '81.43', '81.18', '81.27', '80.76']\n",
      "\n",
      "group =  24\n",
      "80.84 ['81.43', '81.10', '81.77', '81.43', '82.03', '81.94', '81.94', '81.69', '81.60', '82.11', '81.60', '81.60', '81.60', '81.52', '81.52', '81.43', '81.69', '81.35', '81.52', '81.43', '81.18', '81.18', '81.35', '81.10']\n",
      "\n",
      "group =  25\n",
      "80.84 ['81.43', '81.52', '81.86', '82.03', '82.19', '82.11', '81.43', '81.60', '81.43', '81.27', '81.69', '81.52', '81.10', '81.01', '81.69', '81.43', '81.52', '81.69', '81.43', '81.52', '81.86', '81.60', '81.60', '81.52', '81.27']\n",
      "\n",
      "group =  26\n",
      "80.84 ['81.60', '81.77', '81.94', '82.19', '82.03', '81.94', '81.86', '81.77', '81.77', '81.77', '81.52', '81.69', '81.69', '81.77', '81.77', '82.03', '81.94', '82.03', '81.69', '81.69', '81.77', '81.69', '81.77', '81.77', '81.69', '81.52']\n",
      "\n",
      "group =  27\n",
      "80.84 ['81.60', '81.86', '81.77', '82.03', '82.11', '81.69', '81.18', '81.35', '81.52', '81.69', '81.52', '81.52', '81.86', '81.43', '81.43', '81.77', '82.19', '82.11', '82.28', '82.03', '81.69', '81.86', '81.94', '81.86', '81.52', '81.43', '81.27']\n",
      "\n",
      "group =  28\n",
      "80.84 ['81.35', '81.60', '81.52', '81.77', '82.19', '81.60', '81.10', '81.43', '81.60', '81.60', '81.35', '81.60', '81.27', '81.69', '81.94', '82.11', '82.28', '82.36', '82.19', '82.36', '82.19', '82.19', '82.19', '81.94', '81.52', '81.52', '81.60', '81.69']\n",
      "\n",
      "group =  29\n",
      "80.84 ['81.43', '81.77', '80.93', '82.03', '82.36', '81.77', '82.45', '81.69', '82.03', '81.94', '81.69', '81.60', '81.35', '81.60', '81.43', '81.35', '81.69', '81.35', '81.35', '81.43', '81.52', '81.52', '81.52', '81.27', '81.27', '81.35', '81.10', '81.18', '81.27']\n",
      "\n",
      "group =  30\n",
      "80.84 ['81.27', '81.35', '81.35', '81.86', '82.03', '81.86', '81.94', '81.27', '82.03', '81.52', '81.35', '81.35', '81.52', '81.35', '81.27', '81.43', '81.43', '81.77', '81.77', '81.94', '81.86', '81.77', '81.77', '81.94', '81.69', '81.60', '81.43', '81.27', '81.43', '81.35']\n"
     ]
    },
    {
     "data": {
      "image/png": "[encoded data removed]",
      "text/plain": [
       "<Figure size 432x288 with 1 Axes>"
      ]
     },
     "metadata": {
      "needs_background": "light"
     },
     "output_type": "display_data"
    }
   ],
   "source": [
    "data_size = 1185\n",
    "base_model = LogisticRegression(max_iter = 200000)\n",
    "_ = gradual_train_groups(output_train_az[:data_size], y_train_az[:data_size], output_train_fi[:data_size], y_train_fi[:data_size], \n",
    "                     base_model, data_size=data_size, group_range=[0, 30], conf = 0.1)"
   ]
  },
  {
   "cell_type": "code",
   "execution_count": 649,
   "metadata": {},
   "outputs": [
    {
     "name": "stdout",
     "output_type": "stream",
     "text": [
      "\n",
      "group =  1\n"
     ]
    },
    {
     "data": {
      "image/png": "[encoded data removed]",
      "text/plain": [
       "<Figure size 432x288 with 1 Axes>"
      ]
     },
     "metadata": {
      "needs_background": "light"
     },
     "output_type": "display_data"
    },
    {
     "name": "stdout",
     "output_type": "stream",
     "text": [
      "80.84 ['81.01']\n",
      "\n",
      "group =  2\n",
      "80.84 ['81.10', '81.01']\n",
      "\n",
      "group =  3\n",
      "80.84 ['81.43', '81.52', '81.43']\n",
      "\n",
      "group =  4\n",
      "80.84 ['80.59', '80.34', '80.25', '80.34']\n",
      "\n",
      "group =  5\n",
      "80.84 ['80.93', '80.34', '80.59', '80.51', '80.51']\n",
      "\n",
      "group =  6\n",
      "80.84 ['81.10', '80.68', '80.42', '80.34', '80.25', '80.25']\n",
      "\n",
      "group =  7\n",
      "80.84 ['80.84', '81.27', '81.43', '81.10', '81.18', '81.18', '81.27']\n",
      "\n",
      "group =  8\n",
      "80.84 ['81.01', '80.59', '81.27', '80.68', '81.01', '81.35', '81.27', '81.35']\n",
      "\n",
      "group =  9\n",
      "80.84 ['81.10', '81.01', '81.35', '81.01', '81.10', '81.01', '80.93', '80.76', '80.76']\n",
      "\n",
      "group =  10\n",
      "80.84 ['80.42', '80.93', '80.93', '80.76', '80.93', '81.27', '81.35', '81.27', '81.27', '81.27']\n",
      "\n",
      "group =  11\n",
      "80.84 ['80.51', '81.18', '80.42', '80.76', '80.51', '80.51', '80.51', '80.76', '80.51', '80.25', '80.25']\n",
      "\n",
      "group =  12\n",
      "80.84 ['80.34', '80.84', '80.84', '81.35', '80.84', '80.84', '81.01', '80.59', '80.68', '80.76', '80.76', '80.76']\n",
      "\n",
      "group =  13\n",
      "80.84 ['80.51', '80.42', '80.42', '81.10', '80.84', '80.59', '80.68', '80.42', '80.93', '80.68', '80.68', '80.51', '80.51']\n",
      "\n",
      "group =  14\n",
      "80.84 ['81.77', '82.53', '81.94', '82.19', '82.62', '82.45', '82.70', '82.78', '83.21', '83.21', '82.78', '83.04', '83.04', '82.95']\n",
      "\n",
      "group =  15\n",
      "80.84 ['81.43', '82.78', '81.86', '82.11', '82.45', '82.28', '82.36', '82.28', '82.28', '82.19', '82.11', '81.94', '82.28', '82.03', '82.03']\n",
      "\n",
      "group =  16\n",
      "80.84 ['81.35', '82.36', '82.19', '82.11', '82.36', '82.45', '82.28', '82.03', '82.28', '82.03', '81.94', '82.19', '82.19', '82.19', '82.11', '82.11']\n",
      "\n",
      "group =  17\n",
      "80.84 ['81.43', '82.19', '81.60', '82.36', '82.28', '82.03', '82.28', '82.03', '82.19', '82.19', '81.94', '81.94', '82.03', '82.11', '82.03', '81.77', '81.86']\n",
      "\n",
      "group =  18\n",
      "80.84 ['81.60', '82.36', '82.45', '82.03', '81.18', '81.77', '81.60', '81.43', '81.60', '81.52', '81.77', '81.52', '81.52', '81.52', '81.43', '81.52', '81.60', '81.60']\n",
      "\n",
      "group =  19\n",
      "80.84 ['80.25', '81.77', '82.19', '81.43', '81.60', '82.03', '81.52', '81.43', '81.43', '81.52', '81.60', '81.35', '81.27', '81.18', '81.18', '81.35', '81.27', '81.27', '81.18']\n",
      "\n",
      "group =  20\n",
      "80.84 ['80.76', '82.03', '82.03', '81.69', '81.77', '81.18', '82.28', '82.03', '82.03', '82.19', '82.28', '82.11', '82.11', '81.94', '81.86', '81.86', '81.86', '81.94', '81.94', '81.94']\n",
      "\n",
      "group =  21\n",
      "80.84 ['80.59', '82.28', '82.03', '82.03', '81.60', '80.76', '81.27', '81.60', '81.60', '81.27', '81.69', '81.69', '81.60', '81.69', '81.52', '81.43', '81.35', '81.52', '81.43', '81.35', '81.35']\n",
      "\n",
      "group =  22\n",
      "80.84 ['80.34', '81.94', '81.77', '81.77', '81.77', '81.52', '82.11', '81.94', '81.86', '81.94', '81.86', '81.86', '82.11', '82.11', '81.94', '81.86', '81.69', '81.94', '81.94', '81.94', '81.94', '81.94']\n",
      "\n",
      "group =  23\n",
      "80.84 ['81.01', '81.52', '82.28', '81.69', '81.86', '81.60', '82.28', '82.45', '81.94', '82.03', '81.69', '82.03', '82.03', '82.11', '81.77', '81.86', '82.11', '81.94', '81.86', '82.11', '81.94', '81.94', '81.86']\n",
      "\n",
      "group =  24\n",
      "80.84 ['81.27', '81.27', '82.36', '81.69', '82.45', '81.86', '82.45', '82.03', '82.19', '82.28', '82.28', '82.03', '82.28', '82.19', '82.11', '82.03', '81.94', '81.94', '81.94', '82.03', '82.11', '81.77', '81.77', '81.77']\n",
      "\n",
      "group =  25\n",
      "80.84 ['81.27', '81.69', '82.36', '81.77', '81.86', '82.11', '81.94', '82.19', '82.36', '81.94', '82.19', '81.86', '81.86', '81.94', '82.03', '81.77', '81.77', '81.86', '82.03', '81.77', '81.94', '81.77', '81.60', '81.69', '81.69']\n",
      "\n",
      "group =  26\n",
      "80.84 ['81.27', '81.77', '81.86', '81.69', '81.94', '82.28', '82.19', '82.36', '82.03', '82.36', '82.28', '82.36', '82.36', '82.36', '82.28', '82.36', '82.19', '82.45', '82.19', '82.11', '82.36', '82.45', '82.36', '82.19', '82.28', '82.28']\n",
      "\n",
      "group =  27\n",
      "80.84 ['81.10', '81.86', '82.28', '82.19', '82.36', '82.28', '82.19', '82.36', '82.53', '82.11', '82.11', '82.36', '82.45', '82.62', '82.62', '82.78', '82.62', '82.87', '82.53', '82.45', '82.36', '82.53', '82.45', '82.45', '82.53', '82.53', '82.53']\n",
      "\n",
      "group =  28\n",
      "80.84 ['81.43', '81.43', '82.03', '82.28', '81.94', '81.77', '82.03', '82.19', '82.36', '82.11', '82.19', '82.03', '82.19', '82.28', '81.86', '82.11', '82.19', '82.28', '82.11', '82.11', '82.28', '82.28', '82.62', '82.62', '82.45', '82.45', '82.45', '82.45']\n",
      "\n",
      "group =  29\n",
      "80.84 ['81.18', '81.43', '81.60', '82.03', '82.19', '81.94', '81.69', '81.60', '81.69', '81.86', '81.94', '82.03', '82.36', '82.45', '82.36', '82.36', '82.28', '82.19', '82.19', '82.36', '82.36', '82.19', '82.11', '82.11', '82.19', '82.19', '82.19', '82.28', '82.19']\n",
      "\n",
      "group =  30\n",
      "80.84 ['80.59', '81.60', '82.03', '82.45', '82.45', '81.94', '81.77', '81.35', '81.43', '82.03', '81.77', '81.86', '82.11', '82.11', '81.86', '81.94', '81.77', '81.86', '82.03', '82.03', '81.94', '81.94', '81.86', '81.77', '82.11', '82.03', '81.77', '82.03', '82.11', '82.11']\n"
     ]
    },
    {
     "data": {
      "image/png": "[encoded data removed]",
      "text/plain": [
       "<Figure size 432x288 with 1 Axes>"
      ]
     },
     "metadata": {
      "needs_background": "light"
     },
     "output_type": "display_data"
    }
   ],
   "source": [
    "data_size = 1185\n",
    "base_model = LogisticRegression(max_iter = 200000)\n",
    "dists_az_fi, X_target_groups_az_fi = gradual_train_groups(output_train_az[:data_size], y_train_az[:data_size], output_train_fi[:data_size], y_train_fi[:data_size], \n",
    "                     base_model, data_size=data_size, group_range=[0, 30], conf = 0)"
   ]
  },
  {
   "cell_type": "code",
   "execution_count": 655,
   "metadata": {},
   "outputs": [
    {
     "name": "stdout",
     "output_type": "stream",
     "text": [
      "\n",
      "group =  1\n"
     ]
    },
    {
     "data": {
      "image/png": "[encoded data removed]",
      "text/plain": [
       "<Figure size 432x288 with 1 Axes>"
      ]
     },
     "metadata": {
      "needs_background": "light"
     },
     "output_type": "display_data"
    },
    {
     "name": "stdout",
     "output_type": "stream",
     "text": [
      "79.24 ['80.17']\n",
      "\n",
      "group =  2\n",
      "79.24 ['80.00', '80.17']\n",
      "\n",
      "group =  3\n",
      "79.24 ['80.08', '80.08', '79.83']\n",
      "\n",
      "group =  4\n",
      "79.24 ['79.58', '80.25', '80.34', '80.17']\n",
      "\n",
      "group =  5\n",
      "79.24 ['79.41', '80.08', '80.42', '80.08', '80.25']\n",
      "\n",
      "group =  6\n",
      "79.24 ['79.24', '79.24', '79.16', '79.32', '79.41', '79.58']\n",
      "\n",
      "group =  7\n",
      "79.24 ['79.66', '80.25', '81.10', '81.27', '81.18', '80.93', '81.01']\n",
      "\n",
      "group =  8\n",
      "79.24 ['78.31', '79.66', '78.90', '79.24', '79.49', '79.41', '79.24', '79.24']\n",
      "\n",
      "group =  9\n",
      "79.24 ['79.16', '79.92', '80.51', '80.68', '80.59', '81.01', '80.76', '80.84', '80.93']\n",
      "\n",
      "group =  10\n",
      "79.24 ['78.57', '80.59', '81.86', '81.86', '81.60', '82.03', '82.19', '81.86', '82.28', '82.03']\n",
      "\n",
      "group =  11\n",
      "79.24 ['79.32', '80.76', '82.03', '81.77', '82.19', '81.94', '82.11', '82.03', '81.52', '81.27', '81.52']\n",
      "\n",
      "group =  12\n",
      "79.24 ['80.08', '81.18', '81.94', '82.11', '82.53', '82.19', '82.70', '82.70', '82.78', '82.87', '82.87', '82.78']\n",
      "\n",
      "group =  13\n",
      "79.24 ['80.34', '81.60', '82.11', '82.36', '81.94', '82.53', '82.53', '82.70', '83.04', '82.87', '82.95', '82.87', '82.70']\n",
      "\n",
      "group =  14\n",
      "79.24 ['79.41', '80.08', '80.76', '82.11', '81.77', '81.69', '81.60', '81.86', '81.77', '81.94', '81.86', '81.94', '82.03', '81.77']\n",
      "\n",
      "group =  15\n",
      "79.24 ['80.59', '81.18', '81.69', '82.78', '82.03', '82.03', '82.19', '82.28', '82.53', '82.70', '82.36', '82.19', '82.11', '82.11', '81.94']\n",
      "\n",
      "group =  16\n",
      "79.24 ['80.34', '79.92', '81.69', '82.78', '82.78', '82.19', '82.11', '81.94', '82.53', '82.53', '82.87', '82.36', '82.28', '82.45', '82.70', '82.70']\n",
      "\n",
      "group =  17\n",
      "79.24 ['80.17', '79.32', '80.51', '82.28', '82.19', '81.94', '81.69', '81.60', '81.69', '81.94', '82.03', '82.11', '82.03', '82.45', '82.36', '82.03', '82.03']\n",
      "\n",
      "group =  18\n",
      "79.24 ['79.07', '78.57', '78.82', '79.32', '79.66', '79.41', '79.32', '80.00', '79.24', '79.16', '78.99', '79.49', '79.49', '79.75', '79.66', '79.58', '79.92', '79.75']\n",
      "\n",
      "group =  19\n",
      "79.24 ['79.24', '78.31', '80.51', '80.51', '81.01', '81.18', '81.01', '80.93', '81.10', '81.18', '81.60', '81.10', '81.27', '80.93', '81.01', '81.60', '81.35', '81.35', '81.43']\n",
      "\n",
      "group =  20\n",
      "79.24 ['79.58', '78.65', '80.00', '80.25', '81.35', '81.52', '81.43', '81.27', '81.18', '81.35', '81.35', '81.18', '81.60', '81.52', '81.01', '80.93', '81.01', '81.10', '81.43', '81.27']\n",
      "\n",
      "group =  21\n",
      "79.24 ['79.92', '78.82', '79.58', '80.17', '81.18', '80.93', '81.18', '80.59', '80.84', '80.93', '80.84', '80.76', '80.76', '80.84', '80.76', '80.84', '80.93', '80.68', '80.76', '80.59', '80.42']\n",
      "\n",
      "group =  22\n",
      "79.24 ['79.32', '78.90', '78.99', '80.08', '80.59', '80.51', '80.17', '79.58', '79.83', '80.08', '79.83', '80.17', '80.00', '79.83', '80.08', '79.92', '79.66', '79.75', '79.83', '79.75', '79.66', '79.66']\n",
      "\n",
      "group =  23\n",
      "79.24 ['79.49', '79.58', '80.25', '80.76', '81.52', '81.94', '82.11', '82.36', '81.94', '82.11', '82.19', '82.11', '82.19', '82.53', '82.36', '82.62', '82.19', '81.86', '82.28', '82.03', '81.94', '81.94', '82.03']\n",
      "\n",
      "group =  24\n",
      "79.24 ['79.41', '80.17', '79.58', '81.52', '81.69', '82.19', '82.45', '82.36', '82.11', '82.70', '82.87', '82.70', '82.28', '82.62', '82.87', '83.04', '82.78', '83.04', '82.78', '82.70', '82.95', '82.95', '82.78', '82.62']\n",
      "\n",
      "group =  25\n",
      "79.24 ['79.49', '80.00', '79.49', '81.60', '81.52', '82.45', '82.36', '82.11', '82.19', '82.45', '82.45', '82.78', '82.78', '82.87', '82.78', '82.78', '82.95', '82.78', '82.19', '82.36', '82.45', '82.36', '82.53', '82.28', '82.36']\n",
      "\n",
      "group =  26\n",
      "79.24 ['79.24', '80.08', '79.49', '80.93', '81.10', '81.77', '82.11', '82.36', '81.69', '81.27', '81.27', '81.69', '81.52', '81.86', '81.86', '82.03', '82.03', '82.11', '82.11', '81.52', '81.35', '81.35', '80.93', '80.93', '80.84', '80.84']\n",
      "\n",
      "group =  27\n",
      "79.24 ['79.49', '79.07', '79.32', '80.68', '81.01', '81.01', '81.52', '81.94', '81.27', '81.35', '81.10', '81.18', '81.86', '81.52', '81.60', '81.60', '81.86', '81.94', '82.11', '81.69', '81.60', '81.60', '81.35', '81.35', '81.27', '81.27', '81.27']\n",
      "\n",
      "group =  28\n",
      "79.24 ['79.41', '78.90', '79.24', '80.42', '80.34', '81.27', '81.52', '82.36', '82.03', '81.86', '81.27', '81.77', '82.11', '81.86', '81.86', '82.03', '82.28', '81.94', '81.77', '81.86', '82.11', '81.77', '81.43', '81.27', '81.69', '81.60', '81.60', '81.43']\n",
      "\n",
      "group =  29\n",
      "79.24 ['79.41', '79.92', '79.16', '79.92', '80.25', '81.18', '81.94', '81.69', '82.11', '81.43', '81.27', '80.93', '81.35', '81.86', '81.60', '81.69', '81.77', '81.77', '81.86', '81.94', '81.43', '81.01', '81.27', '81.18', '81.35', '81.10', '80.93', '81.01', '80.76']\n",
      "\n",
      "group =  30\n",
      "79.24 ['79.66', '80.51', '79.58', '80.42', '80.76', '80.76', '81.10', '81.60', '81.94', '81.86', '81.43', '81.60', '81.52', '82.03', '81.94', '82.03', '82.11', '82.19', '81.86', '82.28', '82.11', '81.94', '81.94', '82.03', '81.94', '81.94', '81.60', '81.77', '81.94', '81.94']\n"
     ]
    },
    {
     "data": {
      "image/png": "[encoded data removed]",
      "text/plain": [
       "<Figure size 432x288 with 1 Axes>"
      ]
     },
     "metadata": {
      "needs_background": "light"
     },
     "output_type": "display_data"
    }
   ],
   "source": [
    "data_size = 1185\n",
    "base_model = LogisticRegression(max_iter = 200000)\n",
    "_ = gradual_train_groups(output_train_fi[:data_size], y_train_fi[:data_size], output_train_az[:data_size], y_train_az[:data_size], \n",
    "                     base_model, data_size=data_size, group_range=[0, 30], conf = 0.1)"
   ]
  },
  {
   "cell_type": "code",
   "execution_count": null,
   "metadata": {},
   "outputs": [
    {
     "name": "stdout",
     "output_type": "stream",
     "text": [
      "\n",
      "group =  1\n"
     ]
    },
    {
     "data": {
      "image/png": "[encoded data removed]",
      "text/plain": [
       "<Figure size 432x288 with 1 Axes>"
      ]
     },
     "metadata": {
      "needs_background": "light"
     },
     "output_type": "display_data"
    },
    {
     "name": "stdout",
     "output_type": "stream",
     "text": [
      "79.24 ['79.32']\n",
      "\n",
      "group =  2\n",
      "79.24 ['80.00', '80.08']\n",
      "\n",
      "group =  3\n",
      "79.24 ['80.59', '80.51', '80.59']\n",
      "\n",
      "group =  4\n",
      "79.24 ['80.76', '80.42', '80.68', '80.68']\n",
      "\n",
      "group =  5\n",
      "79.24 ['79.66', '79.58', '79.49', '79.75', '79.75']\n",
      "\n",
      "group =  6\n",
      "79.24 ['78.90', '78.65', '79.07', '78.99', '78.90', '78.73']\n",
      "\n",
      "group =  7\n",
      "79.24 ['79.24', '78.90', '79.24', '79.49', '79.49', '79.49', '79.49']\n",
      "\n",
      "group =  8\n",
      "79.24 ['78.06', '78.90', '78.73', '78.48', '78.57', '78.48', '78.48', '78.57']\n",
      "\n",
      "group =  9\n",
      "79.24 ['79.66', '80.17', '80.42', '80.17', '80.08', '80.17', '80.17', '80.25', '80.25']\n",
      "\n",
      "group =  10\n",
      "79.24 ['79.24', '80.00', '80.42', '80.34', '80.42', '80.59', '80.68', '80.68', '80.59', '80.68']\n",
      "\n",
      "group =  11\n",
      "79.24 ['79.16', '80.51', '80.93', '81.35', '81.43', '81.69', '81.52', '81.77', '81.52', '81.60', '81.60']\n",
      "\n",
      "group =  12\n",
      "79.24 ['79.49', '80.59', '80.68', '80.17', '80.42', '80.51', '80.59', '80.68', '80.84', '80.84', '80.84', '80.84']\n",
      "\n",
      "group =  13\n",
      "79.24 ['80.00', '80.93', '81.01', '81.52', '81.27', '81.27', '81.10', '81.35', '81.10', '81.01', '80.93', '81.01', '81.01']\n",
      "\n",
      "group =  14\n",
      "79.24 ['78.99', '79.49', '80.17', '80.34', '79.92', '80.42', '80.25', '80.59', '80.59', '80.59', '80.51', '80.59', '80.59', '80.59']\n",
      "\n",
      "group =  15\n",
      "79.24 ['80.00', '80.42', '80.76', '81.35', '81.69', '81.27', '81.52', '81.52', '81.60', '81.35', '81.43', '81.27', '81.52', '81.52', '81.52']\n",
      "\n",
      "group =  16\n",
      "79.24 ['78.48', '77.64', '78.31', '79.32', '79.92', '79.32', '79.07', '79.07', '79.16', '79.16', '78.99', '79.24', '79.24', '79.24', '79.41', '79.41']\n",
      "\n",
      "group =  17\n",
      "79.24 ['79.16', '78.65', '78.57', '78.99', '79.16', '79.41', '78.90', '79.07', '78.99', '79.07', '78.90', '78.82', '78.82', '78.82', '78.90', '78.90', '78.90']\n",
      "\n",
      "group =  18\n",
      "79.24 ['78.48', '78.06', '77.97', '78.23', '78.40', '78.14', '77.72', '76.88', '77.05', '77.30', '77.13', '77.13', '77.13', '77.13', '77.38', '77.47', '77.47', '77.47']\n",
      "\n",
      "group =  19\n",
      "79.24 ['77.89', '76.20', '76.62', '77.30', '77.30', '76.96', '76.96', '76.88', '76.20', '76.62', '76.79', '76.46', '76.54', '76.54', '76.46', '76.54', '76.46', '76.46', '76.46']\n",
      "\n",
      "group =  20\n",
      "79.24 ['77.97', '76.37', '76.88', '76.71', '76.88', '76.54', '77.13', '76.96', '77.22', '77.13', '77.38', '77.13', '77.13', '77.30', '77.30', '77.47', '77.38', '77.30', '77.30', '77.30']\n",
      "\n",
      "group =  21\n",
      "79.24 ['77.97', '76.29', '76.88', '76.88', '77.72', '77.30', '77.47', '77.22', '76.88', '76.96', '77.13', '77.22', '77.22', '77.30', '77.13', '77.13', '77.05', '77.13', '77.05', '77.13', '77.05']\n",
      "\n",
      "group =  22\n",
      "79.24 ['77.55', '76.37', '76.96', '77.13', '77.81', '77.97', '77.81', '77.64', '77.55', '77.47', '77.64', '77.81', '77.89', '77.81', '77.81', '77.72', '77.72', '77.72', '77.64', '77.72', '77.72', '77.72']\n",
      "\n",
      "group =  23\n",
      "79.24 ['78.06', '76.03', '76.96', '77.64', '77.47', '77.97', '77.38', '77.38', '77.22', '76.79', '76.96', '76.29', '76.62', '76.37', '76.37', '76.46', '76.29', '76.37', '76.37', '76.37', '76.37', '76.37', '76.37']\n",
      "\n",
      "group =  24\n",
      "79.24 ['78.06', '76.20', '76.79', '77.81', '77.55', '78.73', '78.14', '77.81', '77.89', '77.38', '77.22', '77.38', '77.22', '77.30', '77.30', '77.22', '77.13', '77.13', '77.22', '77.30', '77.22', '77.30', '77.22', '77.22']\n",
      "\n",
      "group =  25\n",
      "79.24 ['77.97', '75.95', '76.54', '77.89', '77.55', '78.48', '78.31', '77.89', '77.89', '77.72', '77.81', '78.06', '77.97', '78.06', '77.97', '78.14', '78.06', '77.89', '77.97', '77.97', '77.97', '77.97', '77.97', '77.97', '78.06']\n",
      "\n",
      "group =  26\n",
      "79.24 ['77.97', '76.20', '75.95', '75.78', '75.78', '76.20', '76.29', '76.62', '76.54', '76.20', '75.02', '75.02', '74.68', '74.94', '74.85', '74.85', '74.68', '74.85', '74.85', '74.85', '74.85', '74.85', '74.85', '74.85', '74.85', '74.85']\n",
      "\n",
      "group =  27\n",
      "79.24 ['77.89', '75.95', '76.54', '76.88', '76.54', '76.79', '76.71', '76.54', '76.79', '77.30', '76.54', '76.29', '76.71', '76.62', '76.37', '76.29', '76.46', '76.46', '76.37', '76.37', '76.37', '76.37', '76.29', '76.20', '76.20', '76.29', '76.29']\n",
      "\n",
      "group =  28\n",
      "79.24 ['77.89', '75.44', '76.46', '75.70', '75.44', '75.02', '74.94', '74.18', '73.92', '74.01', '74.18', '73.25', '73.33', '73.42', '73.16', '72.91', '73.08', '73.16', '73.42', '73.33', '73.42', '73.42', '73.33', '73.08', '73.25', '73.25', '73.25', '73.25']\n",
      "\n",
      "group =  29\n",
      "79.24 ['77.81', '75.86', '75.70', '77.13', '76.46', '76.71', '77.22', '77.22', '77.05', '76.96', '77.13', '76.62', '76.54', '76.62', '76.71', '76.71', '76.71', '76.71', '76.71', '76.71', '76.46', '76.46', '76.46', '76.46', '76.46', '76.46', '76.46', '76.37', '76.37']\n",
      "\n",
      "group =  30\n",
      "79.24 ['77.97', '77.97', '77.72', '77.81', '77.97', '78.40', '78.23', '78.40', '78.31', '78.14', '78.14', '77.97', '77.55', '77.55', '77.89', '77.97', '77.64', '77.47', '77.64', '77.64', '77.38', '77.47', '77.55', '77.55', '77.64', '77.55', '77.55', '77.55', '77.55', '77.55']\n"
     ]
    },
    {
     "data": {
      "image/png": "[encoded data removed]",
      "text/plain": [
       "<Figure size 432x288 with 1 Axes>"
      ]
     },
     "metadata": {
      "needs_background": "light"
     },
     "output_type": "display_data"
    }
   ],
   "source": [
    "data_size = 1185\n",
    "base_model = LogisticRegression(max_iter = 200000)\n",
    "dists_fi_az, X_target_groups_fi_az = gradual_train_groups(output_train_fi[:data_size], y_train_fi[:data_size], output_train_az[:data_size], y_train_az[:data_size], \n",
    "                     base_model, data_size=data_size, group_range=[0, 30], conf = 0)"
   ]
  },
  {
   "cell_type": "code",
   "execution_count": 656,
   "metadata": {},
   "outputs": [
    {
     "name": "stdout",
     "output_type": "stream",
     "text": [
      "\n",
      "group =  1\n"
     ]
    },
    {
     "data": {
      "image/png": "[encoded data removed]",
      "text/plain": [
       "<Figure size 432x288 with 1 Axes>"
      ]
     },
     "metadata": {
      "needs_background": "light"
     },
     "output_type": "display_data"
    },
    {
     "name": "stdout",
     "output_type": "stream",
     "text": [
      "78.55 ['79.20']\n",
      "\n",
      "group =  2\n",
      "78.55 ['78.45', '78.65']\n",
      "\n",
      "group =  3\n",
      "78.55 ['78.40', '78.65', '78.70']\n",
      "\n",
      "group =  4\n",
      "78.55 ['78.65', '78.45', '78.40', '78.10']\n",
      "\n",
      "group =  5\n",
      "78.55 ['77.75', '77.40', '77.15', '77.65', '77.10']\n",
      "\n",
      "group =  6\n",
      "78.55 ['78.05', '78.45', '77.85', '77.70', '77.90', '77.75']\n",
      "\n",
      "group =  7\n",
      "78.55 ['78.30', '78.65', '77.90', '78.10', '78.40', '78.10', '78.10']\n",
      "\n",
      "group =  8\n",
      "78.55 ['78.00', '78.20', '77.80', '78.00', '77.80', '77.60', '77.70', '77.40']\n",
      "\n",
      "group =  9\n",
      "78.55 ['77.35', '77.70', '77.65', '76.90', '76.95', '77.00', '77.25', '77.20', '76.75']\n",
      "\n",
      "group =  10\n",
      "78.55 ['76.90', '76.70', '76.95', '76.40', '76.50', '76.35', '76.00', '76.30', '76.05', '76.05']\n",
      "\n",
      "group =  11\n",
      "78.55 ['77.70', '77.20', '77.45', '76.90', '76.40', '76.50', '76.50', '76.30', '76.45', '76.20', '76.20']\n",
      "\n",
      "group =  12\n",
      "78.55 ['77.80', '77.45', '77.30', '76.95', '76.70', '76.40', '76.15', '76.45', '76.20', '76.40', '76.15', '76.20']\n",
      "\n",
      "group =  13\n",
      "78.55 ['78.05', '77.75', '78.05', '78.40', '78.45', '77.90', '77.70', '77.75', '77.70', '78.00', '78.10', '78.05', '78.05']\n",
      "\n",
      "group =  14\n",
      "78.55 ['77.85', '78.00', '78.05', '78.20', '77.85', '77.65', '77.70', '77.50', '77.95', '77.45', '77.95', '77.80', '77.50', '77.40']\n",
      "\n",
      "group =  15\n",
      "78.55 ['77.75', '77.55', '77.30', '77.95', '77.45', '77.25', '76.60', '76.70', '76.60', '76.80', '76.70', '76.75', '76.75', '76.75', '76.80']\n",
      "\n",
      "group =  16\n",
      "78.55 ['77.75', '76.95', '76.55', '77.15', '76.80', '76.55', '76.20', '76.10', '76.00', '76.05', '76.05', '76.15', '76.30', '76.30', '76.40', '76.20']\n",
      "\n",
      "group =  17\n",
      "78.55 ['76.85', '76.40', '76.20', '77.10', '77.25', '77.00', '76.60', '76.40', '76.10', '76.30', '76.40', '76.30', '76.50', '76.60', '76.45', '76.50', '76.35']\n",
      "\n",
      "group =  18\n",
      "78.55 ['76.80', '76.40', '76.55', '77.50', '77.40', '77.40', '77.20', '76.75', '76.65', '76.40', '76.60', '76.70', '76.55', '76.75', '76.65', '76.70', '76.60', '76.25']\n",
      "\n",
      "group =  19\n",
      "78.55 ['76.70', '76.10', '75.95', '76.30', '76.70', '76.70', '76.45', '75.95', '76.00', '75.50', '75.60', '75.90', '75.70', '75.90', '76.25', '76.25', '76.40', '76.30', '76.05']\n",
      "\n",
      "group =  20\n",
      "78.55 ['76.40', '75.15', '75.60', '75.25', '75.05', '75.30', '75.20', '74.35', '74.30', '74.70', '74.55', '74.65', '74.60', '74.65', '74.80', '74.75', '74.95', '74.70', '74.85', '74.85']\n",
      "\n",
      "group =  21\n",
      "78.55 ['77.10', '75.65', '75.55', '75.95', '76.05', '76.25', '75.90', '75.65', '75.65', '75.35', '75.35', '75.05', '75.30', '75.55', '75.25', '75.65', '75.60', '75.60', '75.70', '75.65', '75.65']\n",
      "\n",
      "group =  22\n",
      "78.55 ['77.15', '76.40', '76.15', '76.00', '76.60', '76.15', '76.25', '75.55', '75.20', '75.00', '74.85', '75.00', '74.90', '75.20', '75.00', '74.90', '75.30', '75.40', '75.15', '75.00', '75.20', '75.05']\n",
      "\n",
      "group =  23\n",
      "78.55 ['77.45', '76.90', '76.40', '76.55', '76.95', '77.10', '77.15', '76.90', '76.85', '76.45', '76.20', '76.05', '75.85', '76.10', '76.45', '76.40', '76.45', '76.65', '76.45', '76.35', '76.35', '76.30', '76.30']\n",
      "\n",
      "group =  24\n",
      "78.55 ['77.45', '76.90', '76.20', '76.65', '76.60', '77.10', '77.00', '76.30', '76.30', '76.20', '76.00', '75.80', '75.45', '75.60', '75.85', '76.00', '75.80', '75.85', '76.25', '76.10', '76.10', '76.30', '76.20', '76.10']\n",
      "\n",
      "group =  25\n",
      "78.55 ['77.40', '76.80', '76.10', '76.60', '76.10', '76.70', '76.90', '76.60', '76.30', '76.20', '75.80', '75.60', '75.50', '75.25', '75.65', '75.70', '75.55', '75.55', '75.90', '76.20', '76.05', '76.15', '76.10', '76.15', '75.95']\n",
      "\n",
      "group =  26\n",
      "78.55 ['77.60', '76.85', '76.05', '76.30', '76.20', '77.05', '76.95', '76.85', '76.25', '75.95', '75.70', '75.40', '75.40', '75.30', '75.20', '75.15', '75.35', '75.55', '75.55', '75.80', '76.00', '75.95', '76.05', '75.95', '76.00', '76.05']\n",
      "\n",
      "group =  27\n",
      "78.55 ['78.05', '76.70', '76.60', '76.45', '76.45', '77.05', '77.40', '77.45', '77.35', '77.10', '77.25', '77.00', '76.80', '76.60', '76.55', '76.35', '76.50', '76.55', '76.55', '76.75', '77.20', '76.95', '76.85', '77.00', '76.75', '76.80', '76.70']\n",
      "\n",
      "group =  28\n",
      "78.55 ['77.60', '76.55', '76.45', '76.25', '76.15', '76.80', '76.80', '76.65', '76.55', '76.35', '76.35', '76.30', '75.85', '75.90', '75.95', '75.45', '75.85', '75.95', '75.85', '76.05', '76.35', '76.45', '76.30', '76.50', '76.55', '76.45', '76.70', '76.25']\n",
      "\n",
      "group =  29\n",
      "78.55 ['77.85', '76.80', '76.15', '76.15', '76.20', '76.85', '76.75', '76.65', '76.95', '76.60', '76.75', '76.70', '76.25', '76.15', '76.00', '75.80', '75.85', '76.00', '76.10', '76.25', '76.30', '76.50', '76.60', '76.50', '76.35', '76.60', '76.40', '76.50', '76.30']\n",
      "\n",
      "group =  30\n",
      "78.55 ['77.95', '76.85', '75.45', '75.75', '75.55', '75.55', '76.00', '76.25', '76.30', '76.10', '76.25', '76.05', '75.70', '75.45', '75.50', '75.50', '75.40', '75.70', '75.65', '75.60', '75.25', '75.50', '75.75', '75.70', '75.65', '75.55', '75.55', '75.75', '75.70', '75.60']\n"
     ]
    },
    {
     "data": {
      "image/png": "[encoded data removed]",
      "text/plain": [
       "<Figure size 432x288 with 1 Axes>"
      ]
     },
     "metadata": {
      "needs_background": "light"
     },
     "output_type": "display_data"
    }
   ],
   "source": [
    "data_size = 2000\n",
    "base_model = LogisticRegression(max_iter = 200000)\n",
    "_ = gradual_train_groups(output_train_tw[:data_size], y_train_tw[:data_size], output_train_az[:data_size], y_train_az[:data_size], \n",
    "                     base_model, data_size=data_size, group_range=[0, 30], conf = 0.1)"
   ]
  },
  {
   "cell_type": "code",
   "execution_count": 621,
   "metadata": {},
   "outputs": [
    {
     "name": "stdout",
     "output_type": "stream",
     "text": [
      "\n",
      "group =  1\n"
     ]
    },
    {
     "data": {
      "image/png": "[encoded data removed]",
      "text/plain": [
       "<Figure size 432x288 with 1 Axes>"
      ]
     },
     "metadata": {
      "needs_background": "light"
     },
     "output_type": "display_data"
    },
    {
     "name": "stdout",
     "output_type": "stream",
     "text": [
      "78.55 ['78.75']\n",
      "\n",
      "group =  2\n",
      "78.55 ['78.30', '78.45']\n",
      "\n",
      "group =  3\n",
      "78.55 ['78.20', '78.20', '78.40']\n",
      "\n",
      "group =  4\n",
      "78.55 ['78.20', '78.45', '78.45', '78.50']\n",
      "\n",
      "group =  5\n",
      "78.55 ['77.55', '77.35', '77.45', '77.30', '77.25']\n",
      "\n",
      "group =  6\n",
      "78.55 ['77.30', '77.45', '77.15', '76.95', '76.95', '76.95']\n",
      "\n",
      "group =  7\n",
      "78.55 ['77.95', '78.35', '78.25', '78.20', '78.45', '78.40', '78.35']\n",
      "\n",
      "group =  8\n",
      "78.55 ['77.90', '77.70', '77.45', '77.40', '77.20', '76.95', '76.95', '76.95']\n",
      "\n",
      "group =  9\n",
      "78.55 ['77.95', '78.10', '77.50', '77.65', '77.60', '77.95', '77.45', '77.40', '77.55']\n",
      "\n",
      "group =  10\n",
      "78.55 ['77.75', '77.65', '77.70', '77.55', '77.25', '77.15', '77.10', '77.25', '77.15', '77.30']\n"
     ]
    },
    {
     "data": {
      "image/png": "[encoded data removed]",
      "text/plain": [
       "<Figure size 432x288 with 1 Axes>"
      ]
     },
     "metadata": {
      "needs_background": "light"
     },
     "output_type": "display_data"
    }
   ],
   "source": [
    "data_size = 2000\n",
    "base_model = LogisticRegression(max_iter = 200000)\n",
    "dists_tw_az = gradual_train_groups(output_train_tw[:data_size], y_train_tw[:data_size], output_train_az[:data_size], y_train_az[:data_size], \n",
    "                     base_model, data_size=data_size, group_range=[0, 10], conf = 0)"
   ]
  },
  {
   "cell_type": "code",
   "execution_count": 44,
   "metadata": {},
   "outputs": [
    {
     "name": "stdout",
     "output_type": "stream",
     "text": [
      "\n",
      "group =  1\n"
     ]
    },
    {
     "data": {
      "image/png": "[encoded data removed]",
      "text/plain": [
       "<Figure size 432x288 with 1 Axes>"
      ]
     },
     "metadata": {
      "needs_background": "light"
     },
     "output_type": "display_data"
    },
    {
     "name": "stdout",
     "output_type": "stream",
     "text": [
      "71.40 ['71.10']\n",
      "\n",
      "group =  2\n",
      "71.40 ['71.95', '71.95']\n",
      "\n",
      "group =  3\n",
      "71.40 ['72.00', '72.20', '71.90']\n"
     ]
    },
    {
     "data": {
      "image/png": "[encoded data removed]",
      "text/plain": [
       "<Figure size 432x288 with 1 Axes>"
      ]
     },
     "metadata": {
      "needs_background": "light"
     },
     "output_type": "display_data"
    }
   ],
   "source": [
    "data_size = 2000\n",
    "base_model = LogisticRegression(max_iter = 200000)\n",
    "dists_tw_az = gradual_train_groups(tw2000[:data_size], y_train_tw[:data_size], mv2000[:data_size], y_train_mv[:data_size], \n",
    "                     base_model, data_size=data_size, group_range=[0, 3], conf = 0)"
   ]
  },
  {
   "cell_type": "code",
   "execution_count": 47,
   "metadata": {},
   "outputs": [
    {
     "name": "stdout",
     "output_type": "stream",
     "text": [
      "\n",
      "group =  1\n"
     ]
    },
    {
     "data": {
      "image/png": "[encoded data removed]",
      "text/plain": [
       "<Figure size 432x288 with 1 Axes>"
      ]
     },
     "metadata": {
      "needs_background": "light"
     },
     "output_type": "display_data"
    },
    {
     "name": "stdout",
     "output_type": "stream",
     "text": [
      "67.51 ['67.59']\n",
      "\n",
      "group =  2\n",
      "67.51 ['67.17', '67.59']\n",
      "\n",
      "group =  3\n",
      "67.51 ['68.44', '68.52', '68.61']\n"
     ]
    },
    {
     "data": {
      "image/png": "[encoded data removed]",
      "text/plain": [
       "<Figure size 432x288 with 1 Axes>"
      ]
     },
     "metadata": {
      "needs_background": "light"
     },
     "output_type": "display_data"
    }
   ],
   "source": [
    "data_size = 1185\n",
    "base_model = LogisticRegression(max_iter = 200000)\n",
    "dists_tw_az = gradual_train_groups(tw2000[:data_size], y_train_tw[:data_size], fi2000[:1185], y_train_fi[:1185], \n",
    "                     base_model, data_size=data_size, group_range=[0, 3], conf = 0)"
   ]
  },
  {
   "cell_type": "code",
   "execution_count": 49,
   "metadata": {},
   "outputs": [
    {
     "name": "stdout",
     "output_type": "stream",
     "text": [
      "\n",
      "group =  1\n"
     ]
    },
    {
     "data": {
      "image/png": "[encoded data removed]",
      "text/plain": [
       "<Figure size 432x288 with 1 Axes>"
      ]
     },
     "metadata": {
      "needs_background": "light"
     },
     "output_type": "display_data"
    },
    {
     "name": "stdout",
     "output_type": "stream",
     "text": [
      "68.95 ['68.30']\n",
      "\n",
      "group =  2\n",
      "68.95 ['68.55', '68.55']\n",
      "\n",
      "group =  3\n",
      "68.95 ['68.60', '68.55', '68.60']\n"
     ]
    },
    {
     "data": {
      "image/png": "[encoded data removed]",
      "text/plain": [
       "<Figure size 432x288 with 1 Axes>"
      ]
     },
     "metadata": {
      "needs_background": "light"
     },
     "output_type": "display_data"
    }
   ],
   "source": [
    "data_size = 2000\n",
    "base_model = LogisticRegression(max_iter = 200000)\n",
    "dists_tw_az = gradual_train_groups(az2000[:data_size], y_train_az[:data_size], tw2000[:data_size], y_train_tw[:data_size], \n",
    "                     base_model, data_size=data_size, group_range=[0, 3], conf = 0)"
   ]
  },
  {
   "cell_type": "markdown",
   "metadata": {},
   "source": [
    "### explore confidence and sample weights"
   ]
  },
  {
   "cell_type": "code",
   "execution_count": 539,
   "metadata": {},
   "outputs": [],
   "source": [
    "lr = LogisticRegression(max_iter = 200000)\n",
    "lr.fit(output_train_az, y_train_az[:2000])\n",
    "probs = lr.predict_proba(output_train_az)"
   ]
  },
  {
   "cell_type": "code",
   "execution_count": 563,
   "metadata": {},
   "outputs": [],
   "source": [
    "single_probs = probs[:,0]"
   ]
  },
  {
   "cell_type": "code",
   "execution_count": 579,
   "metadata": {},
   "outputs": [
    {
     "data": {
      "text/plain": [
       "2000"
      ]
     },
     "execution_count": 579,
     "metadata": {},
     "output_type": "execute_result"
    }
   ],
   "source": [
    "len(single_probs[(single_probs>0.5) | (single_probs<=0.5) ])"
   ]
  },
  {
   "cell_type": "code",
   "execution_count": 564,
   "metadata": {},
   "outputs": [
    {
     "data": {
      "image/png": "[encoded data removed]",
      "text/plain": [
       "<Figure size 432x288 with 1 Axes>"
      ]
     },
     "metadata": {
      "needs_background": "light"
     },
     "output_type": "display_data"
    }
   ],
   "source": [
    "plt.hist(single_probs, bins=100)\n",
    "plt.show()"
   ]
  },
  {
   "cell_type": "markdown",
   "metadata": {},
   "source": [
    "### explore distribution of bert measures"
   ]
  },
  {
   "cell_type": "code",
   "execution_count": 633,
   "metadata": {},
   "outputs": [
    {
     "data": {
      "image/png": "[encoded data removed]",
      "text/plain": [
       "<Figure size 432x288 with 1 Axes>"
      ]
     },
     "metadata": {
      "needs_background": "light"
     },
     "output_type": "display_data"
    }
   ],
   "source": [
    "plt.hist(dists_tw_az, alpha=0.5) # t = 5 conf = 0\n",
    "plt.hist(dists_az_fi, alpha=0.5)\n",
    "plt.hist(dists_fi_az, alpha=0.5)\n",
    "plt.hist(dists_az_mv, alpha=0.5)\n",
    "plt.legend([\"tw-az (78.55, 77.33)\", \"az-fi (80.84, 81.27)\", \"fi-az (79.24, 80.68)\",\"az-mv (81.75, 81.25)\"])\n",
    "plt.show()"
   ]
  },
  {
   "cell_type": "code",
   "execution_count": 14,
   "metadata": {},
   "outputs": [],
   "source": [
    "# import matplotlib.pyplot as plt\n",
    "# plt.hist(dists_tw_az, alpha=0.5, density = True) # t = 5 conf = 0\n",
    "# plt.hist(dists_az_fi, alpha=0.5, density = True)\n",
    "# plt.hist(dists_fi_az, alpha=0.5, density = True)\n",
    "# plt.hist(dists_az_mv, alpha=0.5, density = True)\n",
    "# plt.legend([\"tw-az (78.55, 77.33)\", \"az-fi (80.84, 81.27)\", \"fi-az (79.24, 80.68)\",\"az-mv (81.75, 81.25)\"])\n",
    "# plt.show()"
   ]
  },
  {
   "cell_type": "markdown",
   "metadata": {},
   "source": [
    "### Data to pickle"
   ]
  },
  {
   "cell_type": "code",
   "execution_count": 617,
   "metadata": {},
   "outputs": [],
   "source": [
    "# all_bert_zip = zipfile.ZipFile(data_path + 'all_bert.zip')\n",
    "# with open('/Users/yuchen.zhang/Documents/Projects/domain-adaptation-nlp/data/bert_2000_3000.pickle', 'wb') as f:\n",
    "#     pickle.dump(all_bert_zip, f)"
   ]
  },
  {
   "cell_type": "markdown",
   "metadata": {},
   "source": [
    "## checking v1"
   ]
  },
  {
   "cell_type": "code",
   "execution_count": 395,
   "metadata": {},
   "outputs": [],
   "source": [
    "az_bert = np.mean(output_train_az,0)\n",
    "dists = []\n",
    "for e in output_train_mv:\n",
    "    dist = 1- cosine_similarity(az_bert.reshape(1, -1), e.reshape(1, -1))[0][0]\n",
    "    dists.append(dist)"
   ]
  },
  {
   "cell_type": "code",
   "execution_count": 396,
   "metadata": {},
   "outputs": [
    {
     "data": {
      "image/png": "[encoded data removed]",
      "text/plain": [
       "<Figure size 432x288 with 1 Axes>"
      ]
     },
     "metadata": {
      "needs_background": "light"
     },
     "output_type": "display_data"
    }
   ],
   "source": [
    "plt.hist(dists)\n",
    "plt.show()"
   ]
  },
  {
   "cell_type": "code",
   "execution_count": 412,
   "metadata": {},
   "outputs": [
    {
     "name": "stdout",
     "output_type": "stream",
     "text": [
      "0\n",
      "0.02226760322709498\n"
     ]
    }
   ],
   "source": [
    "dists = np.array(dists)\n",
    "dists_order = np.argsort(dists)\n",
    "dists_rank = np.argsort(dists_order)\n",
    "\n",
    "step = 2000/5\n",
    "target_x = []\n",
    "target_y = []\n",
    "\n",
    "for i in range(5):\n",
    "    subset_tf = (step*i <= dists_rank) & (dists_rank < step* (i+1))\n",
    "    t_x = output_train_mv[subset_tf]\n",
    "    t_y = y_train_mv[:2000][subset_tf]\n",
    "    target_x.append(t_x)\n",
    "    target_y.append(t_y)\n",
    "    \n",
    "print(dists_rank[892])\n",
    "print(dists[892])"
   ]
  },
  {
   "cell_type": "code",
   "execution_count": 444,
   "metadata": {},
   "outputs": [
    {
     "name": "stdout",
     "output_type": "stream",
     "text": [
      "Train:\n",
      "0.9315 \n",
      "\n",
      "Val:\n",
      "0.8175\n",
      "0.8215\n",
      "0.816\n",
      "0.8145\n",
      "0.815\n",
      "0.8135\n"
     ]
    }
   ],
   "source": [
    "lr = LogisticRegression(max_iter = 200000)\n",
    "lr.fit(output_train_az, y_train_az[:2000])\n",
    "print(\"Train:\")\n",
    "print(lr.score(output_train_az, y_train_az[:2000]), \"\\n\")\n",
    "print(\"Val:\")\n",
    "print(lr.score(output_train_mv, y_train_mv[:2000]))\n",
    "\n",
    "\n",
    "y_pred = lr.predict(target_x[0])\n",
    "X_train_az_t1 = np.concatenate((output_train_az, target_x[0]), 0)\n",
    "y_train_az_t1 = np.concatenate((y_train_az[:2000], y_pred), 0)\n",
    "lr.fit(X_train_az_t1, y_train_az_t1)\n",
    "print(lr.score(output_train_mv, y_train_mv[:2000]))\n",
    "\n",
    "\n",
    "y_pred = lr.predict(target_x[1])\n",
    "X_train_az_t1t2 = np.concatenate((X_train_az_t1, target_x[1]), 0)\n",
    "y_train_az_t1t2 = np.concatenate((y_train_az_t1, y_pred), 0)\n",
    "lr.fit(X_train_az_t1t2, y_train_az_t1t2)\n",
    "print(lr.score(output_train_mv, y_train_mv[:2000]))\n",
    "\n",
    "y_pred = lr.predict(target_x[2])\n",
    "X_train_az_t1t2t3 = np.concatenate((X_train_az_t1t2, target_x[2]), 0)\n",
    "y_train_az_t1t2t3 = np.concatenate((y_train_az_t1t2, y_pred), 0)\n",
    "lr.fit(X_train_az_t1t2t3, y_train_az_t1t2t3)\n",
    "print(lr.score(output_train_mv, y_train_mv[:2000]))\n",
    "\n",
    "y_pred = lr.predict(target_x[3])\n",
    "X_train_az_t1t2t3t4 = np.concatenate((X_train_az_t1t2t3, target_x[3]), 0)\n",
    "y_train_az_t1t2t3t4 = np.concatenate((y_train_az_t1t2t3, y_pred), 0)\n",
    "lr.fit(X_train_az_t1t2t3t4, y_train_az_t1t2t3t4)\n",
    "print(lr.score(output_train_mv, y_train_mv[:2000]))\n",
    "\n",
    "\n",
    "y_pred = lr.predict(target_x[4])\n",
    "X_train_az_t1t2t3t4t5 = np.concatenate((X_train_az_t1t2t3t4, target_x[4]), 0)\n",
    "y_train_az_t1t2t3t4t5 = np.concatenate((y_train_az_t1t2t3t4, y_pred), 0)\n",
    "lr.fit(X_train_az_t1t2t3t4t5, y_train_az_t1t2t3t4t5)\n",
    "print(lr.score(output_train_mv, y_train_mv[:2000]))"
   ]
  },
  {
   "cell_type": "markdown",
   "metadata": {},
   "source": [
    "## checking v2"
   ]
  },
  {
   "cell_type": "code",
   "execution_count": 430,
   "metadata": {},
   "outputs": [],
   "source": [
    "# from Young-Min with some edits\n",
    "\n",
    "def S2T(train_features, train_labels, test_features, test_labels):\n",
    "    lr_clf = LogisticRegression(max_iter = 200000) #edited \n",
    "    lr_clf.fit(train_features, train_labels)\n",
    "    return lr_clf.score(test_features, test_labels)\n",
    "\n",
    "def cos_dist(A, B):\n",
    "       return 1 - (np.dot(A, B)/(np.linalg.norm(A)*np.linalg.norm(B)))\n",
    "    \n",
    "def S2ti(train_features, train_labels, test_features, test_labels):\n",
    "    print(\"train.shape: \",train_labels.shape)\n",
    "    print(\"test.shape: \",test_labels.shape)    \n",
    "    source_center = np.mean(train_features, 0)\n",
    "    target_distances = [1-cosine_similarity(source_center.reshape(1,-1), x.reshape(1, -1))[0][0] for x in test_features] #edited\n",
    "    print(\"histogram of distance:\")\n",
    "    plt.hist(target_distances)\n",
    "    plt.show()\n",
    "    target_distances = [(i,x) for i,x in enumerate(target_distances)]\n",
    "    target_distances = sorted(target_distances, key=lambda x: x[1])\n",
    "    one_fifth = int(len(target_distances)/5)\n",
    "    target_1in5 = target_distances[:one_fifth]\n",
    "    target_2in5 = target_distances[one_fifth:2*one_fifth]\n",
    "    target_3in5 = target_distances[2*one_fifth:3*one_fifth]\n",
    "    target_4in5 = target_distances[3*one_fifth:4*one_fifth]\n",
    "    target_5in5 = target_distances[4*one_fifth:]\n",
    "    X_train = train_features[:]\n",
    "    y_train = train_labels[:]\n",
    "    y_pred_store = []\n",
    "    y_test_store = []\n",
    "    for target in [target_1in5,target_2in5,target_3in5,target_4in5,target_5in5]:\n",
    "        X_test = [test_features[i] for i,x in target]\n",
    "        y_test = [test_labels[i] for i,x in target]\n",
    "        lr_clf = LogisticRegression(max_iter = 200000) #edited \n",
    "        lr_clf.fit(X_train, y_train)\n",
    "        y_pred = lr_clf.predict(X_test)\n",
    "        X_train = np.concatenate((X_train, X_test), axis=0)\n",
    "        y_train = np.concatenate((y_train, y_pred), axis=0)\n",
    "        y_pred_store += y_pred.tolist()\n",
    "        y_test_store += y_test\n",
    "    output_score = [y_pred_store[i]==y_test_store[i] for i in range(len(y_test_store))]\n",
    "    gradual_score = sum(output_score)/len(output_score)\n",
    "    original_score = S2T(train_features, train_labels, test_features, test_labels)\n",
    "    return original_score, gradual_score"
   ]
  },
  {
   "cell_type": "code",
   "execution_count": 431,
   "metadata": {},
   "outputs": [
    {
     "name": "stdout",
     "output_type": "stream",
     "text": [
      "train.shape:  (2000,)\n",
      "test.shape:  (2000,)\n",
      "histogram of distance:\n"
     ]
    },
    {
     "data": {
      "image/png": "[encoded data removed]",
      "text/plain": [
       "<Figure size 432x288 with 1 Axes>"
      ]
     },
     "metadata": {
      "needs_background": "light"
     },
     "output_type": "display_data"
    },
    {
     "data": {
      "text/plain": [
       "(0.8175, 0.813)"
      ]
     },
     "execution_count": 431,
     "metadata": {},
     "output_type": "execute_result"
    }
   ],
   "source": [
    "S2ti(output_train_az, np.array(y_train_az[:2000]), \n",
    "     output_train_mv, np.array(y_train_mv[:2000]))"
   ]
  },
  {
   "cell_type": "code",
   "execution_count": 663,
   "metadata": {},
   "outputs": [
    {
     "name": "stdout",
     "output_type": "stream",
     "text": [
      "train.shape:  (2000,)\n",
      "test.shape:  (2000,)\n",
      "histogram of distance:\n"
     ]
    },
    {
     "data": {
      "image/png": "[encoded data removed]",
      "text/plain": [
       "<Figure size 432x288 with 1 Axes>"
      ]
     },
     "metadata": {
      "needs_background": "light"
     },
     "output_type": "display_data"
    },
    {
     "data": {
      "text/plain": [
       "(0.854, 0.8485)"
      ]
     },
     "execution_count": 663,
     "metadata": {},
     "output_type": "execute_result"
    }
   ],
   "source": [
    "S2ti(output_train_mv, np.array(y_train_mv[:2000]), \n",
    "     output_train_az, np.array(y_train_az[:2000]))"
   ]
  },
  {
   "cell_type": "code",
   "execution_count": 664,
   "metadata": {},
   "outputs": [
    {
     "name": "stdout",
     "output_type": "stream",
     "text": [
      "train.shape:  (2000,)\n",
      "test.shape:  (2000,)\n",
      "histogram of distance:\n"
     ]
    },
    {
     "data": {
      "image/png": "[encoded data removed]",
      "text/plain": [
       "<Figure size 432x288 with 1 Axes>"
      ]
     },
     "metadata": {
      "needs_background": "light"
     },
     "output_type": "display_data"
    },
    {
     "data": {
      "text/plain": [
       "(0.7855, 0.7745)"
      ]
     },
     "execution_count": 664,
     "metadata": {},
     "output_type": "execute_result"
    }
   ],
   "source": [
    "S2ti(output_train_tw, np.array(y_train_tw[:2000]), \n",
    "     output_train_az, np.array(y_train_az[:2000]))"
   ]
  },
  {
   "cell_type": "code",
   "execution_count": 666,
   "metadata": {},
   "outputs": [
    {
     "name": "stdout",
     "output_type": "stream",
     "text": [
      "train.shape:  (1185,)\n",
      "test.shape:  (1185,)\n",
      "histogram of distance:\n"
     ]
    },
    {
     "data": {
      "image/png": "[encoded data removed]",
      "text/plain": [
       "<Figure size 432x288 with 1 Axes>"
      ]
     },
     "metadata": {
      "needs_background": "light"
     },
     "output_type": "display_data"
    },
    {
     "data": {
      "text/plain": [
       "(0.7924050632911392, 0.7949367088607595)"
      ]
     },
     "execution_count": 666,
     "metadata": {},
     "output_type": "execute_result"
    }
   ],
   "source": [
    "S2ti(output_train_fi, np.array(y_train_fi[:1185]), \n",
    "     output_train_az[:1185], np.array(y_train_az[:1185]))"
   ]
  },
  {
   "cell_type": "code",
   "execution_count": 667,
   "metadata": {},
   "outputs": [
    {
     "name": "stdout",
     "output_type": "stream",
     "text": [
      "train.shape:  (1185,)\n",
      "test.shape:  (2000,)\n",
      "histogram of distance:\n"
     ]
    },
    {
     "data": {
      "image/png": "[encoded data removed]",
      "text/plain": [
       "<Figure size 432x288 with 1 Axes>"
      ]
     },
     "metadata": {
      "needs_background": "light"
     },
     "output_type": "display_data"
    },
    {
     "data": {
      "text/plain": [
       "(0.7985, 0.8055)"
      ]
     },
     "execution_count": 667,
     "metadata": {},
     "output_type": "execute_result"
    }
   ],
   "source": [
    "S2ti(output_train_fi, np.array(y_train_fi[:2000]), \n",
    "     output_train_az, np.array(y_train_az[:2000]))"
   ]
  },
  {
   "cell_type": "code",
   "execution_count": 668,
   "metadata": {},
   "outputs": [
    {
     "name": "stdout",
     "output_type": "stream",
     "text": [
      "train.shape:  (2000,)\n",
      "test.shape:  (1185,)\n",
      "histogram of distance:\n"
     ]
    },
    {
     "data": {
      "image/png": "[encoded data removed]",
      "text/plain": [
       "<Figure size 432x288 with 1 Axes>"
      ]
     },
     "metadata": {
      "needs_background": "light"
     },
     "output_type": "display_data"
    },
    {
     "data": {
      "text/plain": [
       "(0.7932489451476793, 0.809282700421941)"
      ]
     },
     "execution_count": 668,
     "metadata": {},
     "output_type": "execute_result"
    }
   ],
   "source": [
    "S2ti(output_train_az, np.array(y_train_az[:2000]), \n",
    "     output_train_fi, np.array(y_train_fi[:2000]))"
   ]
  },
  {
   "cell_type": "code",
   "execution_count": 669,
   "metadata": {},
   "outputs": [
    {
     "name": "stdout",
     "output_type": "stream",
     "text": [
      "train.shape:  (2000,)\n",
      "test.shape:  (1185,)\n",
      "histogram of distance:\n"
     ]
    },
    {
     "data": {
      "image/png": "[encoded data removed]",
      "text/plain": [
       "<Figure size 432x288 with 1 Axes>"
      ]
     },
     "metadata": {
      "needs_background": "light"
     },
     "output_type": "display_data"
    },
    {
     "data": {
      "text/plain": [
       "(0.760337552742616, 0.7586497890295358)"
      ]
     },
     "execution_count": 669,
     "metadata": {},
     "output_type": "execute_result"
    }
   ],
   "source": [
    "S2ti(output_train_mv, np.array(y_train_mv[:2000]), \n",
    "     output_train_fi, np.array(y_train_fi[:2000]))"
   ]
  },
  {
   "cell_type": "code",
   "execution_count": 670,
   "metadata": {},
   "outputs": [
    {
     "name": "stdout",
     "output_type": "stream",
     "text": [
      "train.shape:  (1185,)\n",
      "test.shape:  (2000,)\n",
      "histogram of distance:\n"
     ]
    },
    {
     "data": {
      "image/png": "[encoded data removed]",
      "text/plain": [
       "<Figure size 432x288 with 1 Axes>"
      ]
     },
     "metadata": {
      "needs_background": "light"
     },
     "output_type": "display_data"
    },
    {
     "data": {
      "text/plain": [
       "(0.774, 0.779)"
      ]
     },
     "execution_count": 670,
     "metadata": {},
     "output_type": "execute_result"
    }
   ],
   "source": [
    "S2ti(output_train_fi, np.array(y_train_fi[:2000]), \n",
    "     output_train_mv, np.array(y_train_mv[:2000]))"
   ]
  },
  {
   "cell_type": "markdown",
   "metadata": {},
   "source": [
    "# compare versions"
   ]
  },
  {
   "cell_type": "code",
   "execution_count": 25,
   "metadata": {},
   "outputs": [],
   "source": [
    "def psuedo_labeling_label_final(x_s, y_s, x_t, y_t, model, conf):\n",
    "    # TODO: add NER version; NER version inputs are dictionaries\n",
    "    base_model = model\n",
    "    model.fit(x_s, y_s)\n",
    "    y_prob = base_model.predict_proba(x_t)[:, 0]\n",
    "    x_ti_keep = []\n",
    "    x_ti_not_keep = []\n",
    "    y_ti_keep = []\n",
    "    y_ti_not_keep = []\n",
    "\n",
    "    # if no data past the conf requirement, lower the requirement by 0.1\n",
    "    while len(x_ti_keep) == 0:\n",
    "        keep_ti_bool = (y_prob >= 0.5 + conf) | (y_prob < 0.5 - conf)\n",
    "        x_ti_keep = x_t[keep_ti_bool]\n",
    "        x_ti_not_keep = x_t[~keep_ti_bool]\n",
    "        y_ti_keep = y_t[keep_ti_bool]\n",
    "        y_ti_not_keep = y_t[~keep_ti_bool]\n",
    "        conf = conf - 0.01\n",
    "    print(conf)\n",
    "\n",
    "    # output prediction and update source\n",
    "    y_pred = model.predict(x_ti_keep)\n",
    "    x_source_updated = np.concatenate((x_s, x_ti_keep), 0)\n",
    "    y_source_updated = np.concatenate((y_s, y_pred), 0)\n",
    "    print(len(x_ti_not_keep))\n",
    "    return x_source_updated, y_source_updated, y_pred, y_ti_keep, x_ti_not_keep, y_ti_not_keep\n",
    "\n",
    "\n",
    "def gradual_train_conf_groups(x_source_raw, y_source_raw, x_target_raw, y_target_raw, base_model, data_size, conf):\n",
    "    # initiate values\n",
    "    data_size = min(len(x_source_raw), len(x_target_raw), data_size)\n",
    "    print(data_size)\n",
    "    x_source_raw, y_source_raw = x_source_raw[:data_size], y_source_raw[:data_size]\n",
    "    x_target_raw, y_target_raw = x_target_raw[:data_size], y_target_raw[:data_size]\n",
    "    print(x_source_raw.shape, y_source_raw.shape, x_target_raw.shape, y_target_raw.shape)\n",
    "\n",
    "    x_source, y_source = x_source_raw, y_source_raw\n",
    "    x_target, y_target = x_target_raw, y_target_raw\n",
    "    y_pred_all = []\n",
    "    y_true_all = []\n",
    "\n",
    "    # repeat self-train until all target data are computed\n",
    "    while len(x_target) > 0:\n",
    "        x_source, y_source, y_pred, y_true, x_target, y_target = psuedo_labeling_label_final(\n",
    "            x_source, y_source, x_target, y_target, base_model, conf\n",
    "        )\n",
    "        y_pred_all.extend(list(y_pred))\n",
    "        y_true_all.extend(list(y_true))\n",
    "\n",
    "    # calculate accuracy\n",
    "    s2t_score = base_model.fit(x_source_raw, y_source_raw).score(x_target_raw, y_target_raw)\n",
    "    s2s_score = base_model.fit(x_source_raw, y_source_raw).score(x_source_raw, y_source_raw)\n",
    "    t2t_score = base_model.fit(x_target_raw, y_target_raw).score(x_target_raw, y_target_raw)\n",
    "    gradual_score = accuracy_score(y_true_all, y_pred_all)\n",
    "    return s2s_score, t2t_score, s2t_score, gradual_score"
   ]
  },
  {
   "cell_type": "code",
   "execution_count": null,
   "metadata": {},
   "outputs": [],
   "source": [
    "def S2T_prob_4_adj(train_features, train_labels, test_features, test_labels, base_model):\n",
    "    # gradual training\n",
    "    X_train = train_features[:]\n",
    "    y_train = train_labels[:]\n",
    "    X_test = test_features[:]\n",
    "    y_test = test_labels[:]\n",
    "    y_pred_store = []\n",
    "    y_test_store = []\n",
    "    previous_r_target = []\n",
    "    while len(X_test) > 0:\n",
    "        lr_clf = base_model\n",
    "        lr_clf.fit(X_train, y_train)\n",
    "        y_pred = lr_clf.predict(X_test)\n",
    "        y_prob = lr_clf.predict_proba(X_test)[:, 0]\n",
    "        keep_index = []\n",
    "        not_keep_index = None\n",
    "        conf = 0.4\n",
    "        while len(keep_index) == 0 and conf >= 0:\n",
    "            keep_index = [i for i, val in enumerate(y_prob) if (val >= 0.5 + conf) or (val < 0.5 - conf)]\n",
    "            not_keep_index = [i for i, val in enumerate(y_prob) if (val < 0.5 + conf) and (val >= 0.5 - conf)]\n",
    "            conf = conf - 0.01\n",
    "        if len(keep_index) == 0:\n",
    "            keep_index = [i for i, val in enumerate(y_prob)]\n",
    "            not_keep_index = []\n",
    "        X_test_keep = [X_test[i] for i in keep_index]\n",
    "        print(len(X_test_keep))\n",
    "        y_pred_keep = [y_pred[i] for i in keep_index]\n",
    "        X_train = np.concatenate((X_train, X_test_keep), axis=0)\n",
    "        y_train = np.concatenate((y_train, y_pred_keep), axis=0)\n",
    "        y_pred_store += y_pred_keep\n",
    "        y_test_store += [y_test[i] for i in keep_index]\n",
    "        X_test = [X_test[i] for i in not_keep_index]\n",
    "        y_test = [y_pred[i] for i in not_keep_index]\n",
    "        if X_test == previous_r_target:\n",
    "            break\n",
    "        previous_r_target = X_test[:]\n",
    "    if len(y_pred_store) != len(test_labels):\n",
    "        raise ValueError('output dimension error!')\n",
    "    output_score = [y_pred_store[i] == y_test_store[i] for i in range(len(y_test_store))]\n",
    "    gradual_score = sum(output_score) / len(output_score)\n",
    "    print(output_score)\n",
    "    original_score = S2T(train_features, train_labels, test_features, test_labels)\n",
    "    lr_clf = LogisticRegression()\n",
    "    lr_clf.fit(X_train, y_train)\n",
    "    y_pred = lr_clf.predict(test_features)\n",
    "    lm_score = [y_pred[i] == y_test_store[i] for i in range(len(y_test_store))]\n",
    "    lm_score = sum(lm_score) / len(lm_score)\n",
    "\n",
    "    return original_score, lm_score, gradual_score"
   ]
  },
  {
   "cell_type": "code",
   "execution_count": 9,
   "metadata": {},
   "outputs": [],
   "source": [
    "def load_bert(data_path, domains, data_size):\n",
    "    bert_dataset = {}\n",
    "    for domain in domains:\n",
    "        bert_dataset[domain] = np.load(data_path + \"all_bert/encoded_\" +\n",
    "                                       domain + \"_train_\" + str(data_size) + \".npy\")\n",
    "    return bert_dataset\n",
    "\n",
    "def load_np_files(data_path, domains, data_types, load_feature):\n",
    "    np_dataset = {}\n",
    "    for domain in domains:\n",
    "        for data_type in data_types:\n",
    "            if load_feature:\n",
    "                file_prefix = \"X_\"\n",
    "            else:\n",
    "                file_prefix = \"y_\"\n",
    "            file = file_prefix + data_type + \"_\" + domain\n",
    "            filename = data_path + \"all_cleaned/\" + file + \".npy\"\n",
    "            np_dataset[file] = np.load(filename, allow_pickle=True)\n",
    "    return np_dataset"
   ]
  },
  {
   "cell_type": "code",
   "execution_count": 10,
   "metadata": {},
   "outputs": [
    {
     "name": "stdout",
     "output_type": "stream",
     "text": [
      "tw 2000\n",
      "az 2000\n",
      "mv 2000\n",
      "fi 1185\n",
      "y_train_tw 718240\n",
      "y_dev_tw 353760\n",
      "y_train_az 2412000\n",
      "y_dev_az 1188000\n",
      "y_train_mv 40000\n",
      "y_dev_mv 5000\n",
      "y_train_fi 1185\n",
      "y_dev_fi 132\n"
     ]
    }
   ],
   "source": [
    "import numpy as np\n",
    "data_path = \"../data/\"\n",
    "domains = [\"tw\", \"az\", \"mv\", \"fi\"]\n",
    "\n",
    "# Load data.\n",
    "\n",
    "bert_dict = load_bert(data_path, domains, 2000)\n",
    "y_dict = load_np_files(data_path, domains, ['train', 'dev'], load_feature=False)\n",
    "for b in bert_dict:\n",
    "    print(b, len(bert_dict[b]))\n",
    "for y in y_dict:\n",
    "    print(y, len(y_dict[y]))"
   ]
  },
  {
   "cell_type": "code",
   "execution_count": 123,
   "metadata": {},
   "outputs": [],
   "source": [
    "from sklearn.linear_model import LogisticRegression\n",
    "from sklearn.metrics import accuracy_score\n",
    "x_source_example = bert_dict['tw']\n",
    "x_target_example = bert_dict['az']\n",
    "y_source_example = y_dict['y_train_tw']\n",
    "y_target_example = y_dict['y_train_az']\n",
    "base_model = LogisticRegression(max_iter=2000)\n",
    "data_size = 2000\n",
    "conf = 0.4\n",
    "\n",
    "# gradual_train_conf_groups(x_source_example, y_source_example, x_target_example, y_target_example, base_model, data_size, conf)"
   ]
  },
  {
   "cell_type": "markdown",
   "metadata": {},
   "source": [
    "# Dataless classification"
   ]
  },
  {
   "cell_type": "code",
   "execution_count": 124,
   "metadata": {},
   "outputs": [
    {
     "data": {
      "text/plain": [
       "array([[ 0.16879809,  0.20386301,  0.12485105, ...,  0.09144359,\n",
       "         0.42622706,  0.35297948],\n",
       "       [ 0.17979693,  0.17714846,  0.12755731, ..., -0.22662926,\n",
       "         0.56577098,  0.29162675],\n",
       "       [-0.03082147,  0.12462155,  0.33992708, ..., -0.12671785,\n",
       "         0.30370981,  0.40641078],\n",
       "       ...,\n",
       "       [ 0.01679105, -0.05794072,  0.26865858, ..., -0.09854423,\n",
       "         0.20043452,  0.32295102],\n",
       "       [-0.34330243,  0.08754142,  0.03121303, ..., -0.18173587,\n",
       "         0.49394789,  0.29293314],\n",
       "       [-0.00463631,  0.15481836,  0.00374458, ..., -0.15286168,\n",
       "         0.42362815,  0.28003868]])"
      ]
     },
     "execution_count": 124,
     "metadata": {},
     "output_type": "execute_result"
    }
   ],
   "source": [
    "bert_dict['tw']"
   ]
  },
  {
   "cell_type": "code",
   "execution_count": 131,
   "metadata": {},
   "outputs": [],
   "source": [
    "import pickle\n",
    "with open(\"../data/amazon_reviews/amazon_4.pickle\",\"rb\") as fr:\n",
    "    all_data = pickle.load(fr)"
   ]
  },
  {
   "cell_type": "code",
   "execution_count": 134,
   "metadata": {},
   "outputs": [
    {
     "data": {
      "text/plain": [
       "(array([[ 0.04075839,  0.05910503,  0.13972619, ..., -0.06301638,\n",
       "          0.4450332 ,  0.23183767],\n",
       "        [-0.02973443, -0.03376829,  0.06094901, ..., -0.13512635,\n",
       "          0.35807544,  0.3044202 ],\n",
       "        [-0.06972118,  0.03179864, -0.11417986, ...,  0.04598498,\n",
       "          0.2473178 ,  0.08969769],\n",
       "        ...,\n",
       "        [-0.00496966,  0.04295776,  0.04823667, ..., -0.03258032,\n",
       "          0.40385824,  0.3256419 ],\n",
       "        [ 0.06021781,  0.00802504,  0.0266686 , ...,  0.102793  ,\n",
       "          0.29291397,  0.3384165 ],\n",
       "        [-0.05725368, -0.00675954, -0.21957697, ...,  0.03083247,\n",
       "          0.36693576,  0.36155334]], dtype=float32),\n",
       " array([1, 1, 1, ..., 0, 0, 0]),\n",
       " 'Home_and_Kitchen.train')"
      ]
     },
     "execution_count": 134,
     "metadata": {},
     "output_type": "execute_result"
    }
   ],
   "source": [
    "all_data[0]"
   ]
  },
  {
   "cell_type": "code",
   "execution_count": 138,
   "metadata": {},
   "outputs": [
    {
     "data": {
      "text/plain": [
       "2000"
      ]
     },
     "execution_count": 138,
     "metadata": {},
     "output_type": "execute_result"
    }
   ],
   "source": [
    "len(all_data[0][0])"
   ]
  },
  {
   "cell_type": "code",
   "execution_count": 156,
   "metadata": {},
   "outputs": [
    {
     "name": "stdout",
     "output_type": "stream",
     "text": [
      "\n",
      " Home_and_Kitchen.train_to_Home_and_Kitchen.train [0.9425373134328359, 0.8984848484848484]\n",
      "\n",
      " Home_and_Kitchen.train_to_Movies_and_TV.train [0.9425373134328359, 0.8575757575757575]\n",
      "\n",
      " Home_and_Kitchen.train_to_Electronics.train [0.9425373134328359, 0.8742424242424243]\n",
      "\n",
      " Home_and_Kitchen.train_to_Books.train [0.9425373134328359, 0.8833333333333333]\n",
      "\n",
      " Movies_and_TV.train_to_Home_and_Kitchen.train [0.9380597014925374, 0.8257575757575758]\n",
      "\n",
      " Movies_and_TV.train_to_Movies_and_TV.train [0.9380597014925374, 0.906060606060606]\n",
      "\n",
      " Movies_and_TV.train_to_Electronics.train [0.9380597014925374, 0.8393939393939394]\n",
      "\n",
      " Movies_and_TV.train_to_Books.train [0.9380597014925374, 0.9]\n",
      "\n",
      " Electronics.train_to_Home_and_Kitchen.train [0.9223880597014925, 0.896969696969697]\n",
      "\n",
      " Electronics.train_to_Movies_and_TV.train [0.9223880597014925, 0.8863636363636364]\n",
      "\n",
      " Electronics.train_to_Electronics.train [0.9223880597014925, 0.9015151515151515]\n",
      "\n",
      " Electronics.train_to_Books.train [0.9223880597014925, 0.8954545454545455]\n",
      "\n",
      " Books.train_to_Home_and_Kitchen.train [0.9485074626865672, 0.8227272727272728]\n",
      "\n",
      " Books.train_to_Movies_and_TV.train [0.9485074626865672, 0.9015151515151515]\n",
      "\n",
      " Books.train_to_Electronics.train [0.9485074626865672, 0.7878787878787878]\n",
      "\n",
      " Books.train_to_Books.train [0.9485074626865672, 0.9303030303030303]\n"
     ]
    }
   ],
   "source": [
    "from sklearn.model_selection import train_test_split\n",
    "\n",
    "lr = LogisticRegression(C=0.5, l1_ratio=0.5, max_iter=200000, penalty=\"elasticnet\", solver=\"saga\")\n",
    "\n",
    "for source in all_data:\n",
    "    for target in all_data:\n",
    "        train_name = source[2] + \"_to_\" + target[2]\n",
    "        X_strain, X_sval, y_strain, y_sval = train_test_split(source[0], source[1], test_size=0.33, random_state=42)\n",
    "        X_ttrain, X_tval, y_ttrain, y_tval = train_test_split(target[0], target[1], test_size=0.33, random_state=42)\n",
    "        \n",
    "        no_self_train = [lr.fit(X_strain, y_strain).score(X_strain, y_strain), lr.fit(X_strain, y_strain).score(X_tval, y_tval)]\n",
    "        print(\"\\n\", train_name, no_self_train)"
   ]
  },
  {
   "cell_type": "markdown",
   "metadata": {},
   "source": [
    "# Analyze"
   ]
  },
  {
   "cell_type": "code",
   "execution_count": 214,
   "metadata": {},
   "outputs": [],
   "source": [
    "files = ['accuracies_ti_amazon_conf1_c0.1.json', \n",
    "         'accuracies_ti_amazon_conf1_c0.1_fs0.1.json',\n",
    "         'accuracies_ti_amazon_conf1_c0.1_fs0.01.json', \n",
    "         'accuracies_ti_amazon_conf1_c0.1_fs0.005.json',\n",
    "         'accuracies_ti_amazon_conf1_c0.1_fs0.0025.json']"
   ]
  },
  {
   "cell_type": "code",
   "execution_count": 215,
   "metadata": {},
   "outputs": [
    {
     "data": {
      "text/plain": [
       "['accuracies_ti_amazon_conf1_c0.1.json',\n",
       " 'accuracies_ti_amazon_conf1_c0.1_fs0.1.json',\n",
       " 'accuracies_ti_amazon_conf1_c0.1_fs0.01.json',\n",
       " 'accuracies_ti_amazon_conf1_c0.1_fs0.005.json',\n",
       " 'accuracies_ti_amazon_conf1_c0.1_fs0.0025.json']"
      ]
     },
     "execution_count": 215,
     "metadata": {},
     "output_type": "execute_result"
    }
   ],
   "source": [
    "files"
   ]
  },
  {
   "cell_type": "code",
   "execution_count": 216,
   "metadata": {},
   "outputs": [],
   "source": [
    "import json\n",
    "\n",
    "all_results = []\n",
    "for file in files:\n",
    "    with open(\"../outputs/\" + file, \"r\") as f:\n",
    "        all_results.append(json.load(f))"
   ]
  },
  {
   "cell_type": "code",
   "execution_count": 217,
   "metadata": {},
   "outputs": [],
   "source": [
    "def take_last_acc(result_dict):\n",
    "    last_score = {}\n",
    "    for k in result_dict:\n",
    "        if k.isnumeric():\n",
    "            last_score[k] = result_dict[k][-1]\n",
    "        else:\n",
    "            last_score[k] = result_dict[k]\n",
    "    return last_score"
   ]
  },
  {
   "cell_type": "code",
   "execution_count": 218,
   "metadata": {},
   "outputs": [
    {
     "name": "stdout",
     "output_type": "stream",
     "text": [
      "Home_and_Kitchen.train_to_Home_and_Kitchen.train\n",
      "Home_and_Kitchen.train_to_Movies_and_TV.train\n",
      "Home_and_Kitchen.train_to_Electronics.train\n",
      "Home_and_Kitchen.train_to_Books.train\n",
      "Movies_and_TV.train_to_Home_and_Kitchen.train\n",
      "Movies_and_TV.train_to_Movies_and_TV.train\n",
      "Movies_and_TV.train_to_Electronics.train\n",
      "Movies_and_TV.train_to_Books.train\n",
      "Electronics.train_to_Home_and_Kitchen.train\n",
      "Electronics.train_to_Movies_and_TV.train\n",
      "Electronics.train_to_Electronics.train\n",
      "Electronics.train_to_Books.train\n",
      "Books.train_to_Home_and_Kitchen.train\n",
      "Books.train_to_Movies_and_TV.train\n",
      "Books.train_to_Electronics.train\n",
      "Books.train_to_Books.train\n"
     ]
    }
   ],
   "source": [
    "g = 0\n",
    "no_fs = {}\n",
    "for k in all_results[g]:\n",
    "    print(k)\n",
    "    no_fs[k] = take_last_acc(all_results[g][k])\n",
    "#     print(take_last_acc(all_results[g][k]))"
   ]
  },
  {
   "cell_type": "code",
   "execution_count": 219,
   "metadata": {},
   "outputs": [
    {
     "name": "stdout",
     "output_type": "stream",
     "text": [
      "Home_and_Kitchen.train_to_Home_and_Kitchen.train\n",
      "Home_and_Kitchen.train_to_Movies_and_TV.train\n",
      "Home_and_Kitchen.train_to_Electronics.train\n",
      "Home_and_Kitchen.train_to_Books.train\n",
      "Movies_and_TV.train_to_Home_and_Kitchen.train\n",
      "Movies_and_TV.train_to_Movies_and_TV.train\n",
      "Movies_and_TV.train_to_Electronics.train\n",
      "Movies_and_TV.train_to_Books.train\n",
      "Electronics.train_to_Home_and_Kitchen.train\n",
      "Electronics.train_to_Movies_and_TV.train\n",
      "Electronics.train_to_Electronics.train\n",
      "Electronics.train_to_Books.train\n",
      "Books.train_to_Home_and_Kitchen.train\n",
      "Books.train_to_Movies_and_TV.train\n",
      "Books.train_to_Electronics.train\n",
      "Books.train_to_Books.train\n"
     ]
    }
   ],
   "source": [
    "g = 4\n",
    "fs0025 = {}\n",
    "for k in all_results[g]:\n",
    "    print(k)\n",
    "    fs0025[k] = take_last_acc(all_results[g][k])\n",
    "#     print(take_last_acc(all_results[g][k]))"
   ]
  },
  {
   "cell_type": "code",
   "execution_count": 220,
   "metadata": {},
   "outputs": [
    {
     "data": {
      "text/html": [
       "<div>\n",
       "<style scoped>\n",
       "    .dataframe tbody tr th:only-of-type {\n",
       "        vertical-align: middle;\n",
       "    }\n",
       "\n",
       "    .dataframe tbody tr th {\n",
       "        vertical-align: top;\n",
       "    }\n",
       "\n",
       "    .dataframe thead th {\n",
       "        text-align: right;\n",
       "    }\n",
       "</style>\n",
       "<table border=\"1\" class=\"dataframe\">\n",
       "  <thead>\n",
       "    <tr style=\"text-align: right;\">\n",
       "      <th></th>\n",
       "      <th>Home_and_Kitchen.train_to_Home_and_Kitchen.train</th>\n",
       "      <th>Home_and_Kitchen.train_to_Movies_and_TV.train</th>\n",
       "      <th>Home_and_Kitchen.train_to_Electronics.train</th>\n",
       "      <th>Home_and_Kitchen.train_to_Books.train</th>\n",
       "      <th>Movies_and_TV.train_to_Home_and_Kitchen.train</th>\n",
       "      <th>Movies_and_TV.train_to_Movies_and_TV.train</th>\n",
       "      <th>Movies_and_TV.train_to_Electronics.train</th>\n",
       "      <th>Movies_and_TV.train_to_Books.train</th>\n",
       "      <th>Electronics.train_to_Home_and_Kitchen.train</th>\n",
       "      <th>Electronics.train_to_Movies_and_TV.train</th>\n",
       "      <th>Electronics.train_to_Electronics.train</th>\n",
       "      <th>Electronics.train_to_Books.train</th>\n",
       "      <th>Books.train_to_Home_and_Kitchen.train</th>\n",
       "      <th>Books.train_to_Movies_and_TV.train</th>\n",
       "      <th>Books.train_to_Electronics.train</th>\n",
       "      <th>Books.train_to_Books.train</th>\n",
       "    </tr>\n",
       "  </thead>\n",
       "  <tbody>\n",
       "    <tr>\n",
       "      <th>no_self_train_adaptation_score</th>\n",
       "      <td>0.9300</td>\n",
       "      <td>0.8780</td>\n",
       "      <td>0.8870</td>\n",
       "      <td>0.8965</td>\n",
       "      <td>0.8680</td>\n",
       "      <td>0.9265</td>\n",
       "      <td>0.8155</td>\n",
       "      <td>0.9165</td>\n",
       "      <td>0.9170</td>\n",
       "      <td>0.9020</td>\n",
       "      <td>0.9150</td>\n",
       "      <td>0.8925</td>\n",
       "      <td>0.8480</td>\n",
       "      <td>0.9020</td>\n",
       "      <td>0.8045</td>\n",
       "      <td>0.9415</td>\n",
       "    </tr>\n",
       "    <tr>\n",
       "      <th>1</th>\n",
       "      <td>0.9265</td>\n",
       "      <td>0.8790</td>\n",
       "      <td>0.8830</td>\n",
       "      <td>0.9080</td>\n",
       "      <td>0.8740</td>\n",
       "      <td>0.9240</td>\n",
       "      <td>0.8115</td>\n",
       "      <td>0.9215</td>\n",
       "      <td>0.9175</td>\n",
       "      <td>0.9050</td>\n",
       "      <td>0.9120</td>\n",
       "      <td>0.9045</td>\n",
       "      <td>0.8480</td>\n",
       "      <td>0.9020</td>\n",
       "      <td>0.8000</td>\n",
       "      <td>0.9365</td>\n",
       "    </tr>\n",
       "    <tr>\n",
       "      <th>2</th>\n",
       "      <td>0.9255</td>\n",
       "      <td>0.8785</td>\n",
       "      <td>0.8840</td>\n",
       "      <td>0.9040</td>\n",
       "      <td>0.8680</td>\n",
       "      <td>0.9245</td>\n",
       "      <td>0.8070</td>\n",
       "      <td>0.9235</td>\n",
       "      <td>0.9150</td>\n",
       "      <td>0.9080</td>\n",
       "      <td>0.9125</td>\n",
       "      <td>0.9070</td>\n",
       "      <td>0.8440</td>\n",
       "      <td>0.8985</td>\n",
       "      <td>0.7975</td>\n",
       "      <td>0.9355</td>\n",
       "    </tr>\n",
       "    <tr>\n",
       "      <th>3</th>\n",
       "      <td>0.9255</td>\n",
       "      <td>0.8730</td>\n",
       "      <td>0.8845</td>\n",
       "      <td>0.9015</td>\n",
       "      <td>0.8625</td>\n",
       "      <td>0.9240</td>\n",
       "      <td>0.8015</td>\n",
       "      <td>0.9240</td>\n",
       "      <td>0.9135</td>\n",
       "      <td>0.9035</td>\n",
       "      <td>0.9115</td>\n",
       "      <td>0.9080</td>\n",
       "      <td>0.8360</td>\n",
       "      <td>0.8995</td>\n",
       "      <td>0.7905</td>\n",
       "      <td>0.9350</td>\n",
       "    </tr>\n",
       "    <tr>\n",
       "      <th>4</th>\n",
       "      <td>0.9260</td>\n",
       "      <td>0.8730</td>\n",
       "      <td>0.8860</td>\n",
       "      <td>0.9015</td>\n",
       "      <td>0.8575</td>\n",
       "      <td>0.9250</td>\n",
       "      <td>0.7930</td>\n",
       "      <td>0.9245</td>\n",
       "      <td>0.9150</td>\n",
       "      <td>0.9025</td>\n",
       "      <td>0.9135</td>\n",
       "      <td>0.9100</td>\n",
       "      <td>0.8370</td>\n",
       "      <td>0.8980</td>\n",
       "      <td>0.7875</td>\n",
       "      <td>0.9355</td>\n",
       "    </tr>\n",
       "    <tr>\n",
       "      <th>5</th>\n",
       "      <td>0.9250</td>\n",
       "      <td>0.8700</td>\n",
       "      <td>0.8830</td>\n",
       "      <td>0.8995</td>\n",
       "      <td>0.8590</td>\n",
       "      <td>0.9240</td>\n",
       "      <td>0.7900</td>\n",
       "      <td>0.9235</td>\n",
       "      <td>0.9135</td>\n",
       "      <td>0.9020</td>\n",
       "      <td>0.9125</td>\n",
       "      <td>0.9125</td>\n",
       "      <td>0.8345</td>\n",
       "      <td>0.8975</td>\n",
       "      <td>0.7855</td>\n",
       "      <td>0.9360</td>\n",
       "    </tr>\n",
       "    <tr>\n",
       "      <th>6</th>\n",
       "      <td>0.9250</td>\n",
       "      <td>0.8680</td>\n",
       "      <td>0.8855</td>\n",
       "      <td>0.8975</td>\n",
       "      <td>0.8590</td>\n",
       "      <td>0.9235</td>\n",
       "      <td>0.7880</td>\n",
       "      <td>0.9260</td>\n",
       "      <td>0.9130</td>\n",
       "      <td>0.8990</td>\n",
       "      <td>0.9120</td>\n",
       "      <td>0.9150</td>\n",
       "      <td>0.8295</td>\n",
       "      <td>0.8965</td>\n",
       "      <td>0.7815</td>\n",
       "      <td>0.9360</td>\n",
       "    </tr>\n",
       "    <tr>\n",
       "      <th>7</th>\n",
       "      <td>0.9255</td>\n",
       "      <td>0.8675</td>\n",
       "      <td>0.8845</td>\n",
       "      <td>0.8930</td>\n",
       "      <td>0.8545</td>\n",
       "      <td>0.9240</td>\n",
       "      <td>0.7895</td>\n",
       "      <td>0.9260</td>\n",
       "      <td>0.9155</td>\n",
       "      <td>0.8965</td>\n",
       "      <td>0.9135</td>\n",
       "      <td>0.9135</td>\n",
       "      <td>0.8290</td>\n",
       "      <td>0.8970</td>\n",
       "      <td>0.7730</td>\n",
       "      <td>0.9370</td>\n",
       "    </tr>\n",
       "    <tr>\n",
       "      <th>8</th>\n",
       "      <td>0.9250</td>\n",
       "      <td>0.8655</td>\n",
       "      <td>0.8845</td>\n",
       "      <td>0.8955</td>\n",
       "      <td>0.8540</td>\n",
       "      <td>0.9250</td>\n",
       "      <td>0.7790</td>\n",
       "      <td>0.9255</td>\n",
       "      <td>0.9145</td>\n",
       "      <td>0.8960</td>\n",
       "      <td>0.9130</td>\n",
       "      <td>0.9135</td>\n",
       "      <td>0.8320</td>\n",
       "      <td>0.8980</td>\n",
       "      <td>0.7775</td>\n",
       "      <td>0.9370</td>\n",
       "    </tr>\n",
       "    <tr>\n",
       "      <th>9</th>\n",
       "      <td>0.9260</td>\n",
       "      <td>0.8650</td>\n",
       "      <td>0.8855</td>\n",
       "      <td>0.8935</td>\n",
       "      <td>0.8550</td>\n",
       "      <td>0.9230</td>\n",
       "      <td>0.7810</td>\n",
       "      <td>0.9250</td>\n",
       "      <td>0.9135</td>\n",
       "      <td>0.8940</td>\n",
       "      <td>0.9130</td>\n",
       "      <td>0.9130</td>\n",
       "      <td>0.8330</td>\n",
       "      <td>0.8965</td>\n",
       "      <td>0.7745</td>\n",
       "      <td>0.9370</td>\n",
       "    </tr>\n",
       "    <tr>\n",
       "      <th>10</th>\n",
       "      <td>0.9260</td>\n",
       "      <td>0.8680</td>\n",
       "      <td>0.8855</td>\n",
       "      <td>0.8915</td>\n",
       "      <td>0.8460</td>\n",
       "      <td>0.9230</td>\n",
       "      <td>0.7805</td>\n",
       "      <td>0.9260</td>\n",
       "      <td>0.9120</td>\n",
       "      <td>0.8950</td>\n",
       "      <td>0.9130</td>\n",
       "      <td>0.9140</td>\n",
       "      <td>0.8275</td>\n",
       "      <td>0.8970</td>\n",
       "      <td>0.7745</td>\n",
       "      <td>0.9370</td>\n",
       "    </tr>\n",
       "  </tbody>\n",
       "</table>\n",
       "</div>"
      ],
      "text/plain": [
       "                                Home_and_Kitchen.train_to_Home_and_Kitchen.train  \\\n",
       "no_self_train_adaptation_score                                            0.9300   \n",
       "1                                                                         0.9265   \n",
       "2                                                                         0.9255   \n",
       "3                                                                         0.9255   \n",
       "4                                                                         0.9260   \n",
       "5                                                                         0.9250   \n",
       "6                                                                         0.9250   \n",
       "7                                                                         0.9255   \n",
       "8                                                                         0.9250   \n",
       "9                                                                         0.9260   \n",
       "10                                                                        0.9260   \n",
       "\n",
       "                                Home_and_Kitchen.train_to_Movies_and_TV.train  \\\n",
       "no_self_train_adaptation_score                                         0.8780   \n",
       "1                                                                      0.8790   \n",
       "2                                                                      0.8785   \n",
       "3                                                                      0.8730   \n",
       "4                                                                      0.8730   \n",
       "5                                                                      0.8700   \n",
       "6                                                                      0.8680   \n",
       "7                                                                      0.8675   \n",
       "8                                                                      0.8655   \n",
       "9                                                                      0.8650   \n",
       "10                                                                     0.8680   \n",
       "\n",
       "                                Home_and_Kitchen.train_to_Electronics.train  \\\n",
       "no_self_train_adaptation_score                                       0.8870   \n",
       "1                                                                    0.8830   \n",
       "2                                                                    0.8840   \n",
       "3                                                                    0.8845   \n",
       "4                                                                    0.8860   \n",
       "5                                                                    0.8830   \n",
       "6                                                                    0.8855   \n",
       "7                                                                    0.8845   \n",
       "8                                                                    0.8845   \n",
       "9                                                                    0.8855   \n",
       "10                                                                   0.8855   \n",
       "\n",
       "                                Home_and_Kitchen.train_to_Books.train  \\\n",
       "no_self_train_adaptation_score                                 0.8965   \n",
       "1                                                              0.9080   \n",
       "2                                                              0.9040   \n",
       "3                                                              0.9015   \n",
       "4                                                              0.9015   \n",
       "5                                                              0.8995   \n",
       "6                                                              0.8975   \n",
       "7                                                              0.8930   \n",
       "8                                                              0.8955   \n",
       "9                                                              0.8935   \n",
       "10                                                             0.8915   \n",
       "\n",
       "                                Movies_and_TV.train_to_Home_and_Kitchen.train  \\\n",
       "no_self_train_adaptation_score                                         0.8680   \n",
       "1                                                                      0.8740   \n",
       "2                                                                      0.8680   \n",
       "3                                                                      0.8625   \n",
       "4                                                                      0.8575   \n",
       "5                                                                      0.8590   \n",
       "6                                                                      0.8590   \n",
       "7                                                                      0.8545   \n",
       "8                                                                      0.8540   \n",
       "9                                                                      0.8550   \n",
       "10                                                                     0.8460   \n",
       "\n",
       "                                Movies_and_TV.train_to_Movies_and_TV.train  \\\n",
       "no_self_train_adaptation_score                                      0.9265   \n",
       "1                                                                   0.9240   \n",
       "2                                                                   0.9245   \n",
       "3                                                                   0.9240   \n",
       "4                                                                   0.9250   \n",
       "5                                                                   0.9240   \n",
       "6                                                                   0.9235   \n",
       "7                                                                   0.9240   \n",
       "8                                                                   0.9250   \n",
       "9                                                                   0.9230   \n",
       "10                                                                  0.9230   \n",
       "\n",
       "                                Movies_and_TV.train_to_Electronics.train  \\\n",
       "no_self_train_adaptation_score                                    0.8155   \n",
       "1                                                                 0.8115   \n",
       "2                                                                 0.8070   \n",
       "3                                                                 0.8015   \n",
       "4                                                                 0.7930   \n",
       "5                                                                 0.7900   \n",
       "6                                                                 0.7880   \n",
       "7                                                                 0.7895   \n",
       "8                                                                 0.7790   \n",
       "9                                                                 0.7810   \n",
       "10                                                                0.7805   \n",
       "\n",
       "                                Movies_and_TV.train_to_Books.train  \\\n",
       "no_self_train_adaptation_score                              0.9165   \n",
       "1                                                           0.9215   \n",
       "2                                                           0.9235   \n",
       "3                                                           0.9240   \n",
       "4                                                           0.9245   \n",
       "5                                                           0.9235   \n",
       "6                                                           0.9260   \n",
       "7                                                           0.9260   \n",
       "8                                                           0.9255   \n",
       "9                                                           0.9250   \n",
       "10                                                          0.9260   \n",
       "\n",
       "                                Electronics.train_to_Home_and_Kitchen.train  \\\n",
       "no_self_train_adaptation_score                                       0.9170   \n",
       "1                                                                    0.9175   \n",
       "2                                                                    0.9150   \n",
       "3                                                                    0.9135   \n",
       "4                                                                    0.9150   \n",
       "5                                                                    0.9135   \n",
       "6                                                                    0.9130   \n",
       "7                                                                    0.9155   \n",
       "8                                                                    0.9145   \n",
       "9                                                                    0.9135   \n",
       "10                                                                   0.9120   \n",
       "\n",
       "                                Electronics.train_to_Movies_and_TV.train  \\\n",
       "no_self_train_adaptation_score                                    0.9020   \n",
       "1                                                                 0.9050   \n",
       "2                                                                 0.9080   \n",
       "3                                                                 0.9035   \n",
       "4                                                                 0.9025   \n",
       "5                                                                 0.9020   \n",
       "6                                                                 0.8990   \n",
       "7                                                                 0.8965   \n",
       "8                                                                 0.8960   \n",
       "9                                                                 0.8940   \n",
       "10                                                                0.8950   \n",
       "\n",
       "                                Electronics.train_to_Electronics.train  \\\n",
       "no_self_train_adaptation_score                                  0.9150   \n",
       "1                                                               0.9120   \n",
       "2                                                               0.9125   \n",
       "3                                                               0.9115   \n",
       "4                                                               0.9135   \n",
       "5                                                               0.9125   \n",
       "6                                                               0.9120   \n",
       "7                                                               0.9135   \n",
       "8                                                               0.9130   \n",
       "9                                                               0.9130   \n",
       "10                                                              0.9130   \n",
       "\n",
       "                                Electronics.train_to_Books.train  \\\n",
       "no_self_train_adaptation_score                            0.8925   \n",
       "1                                                         0.9045   \n",
       "2                                                         0.9070   \n",
       "3                                                         0.9080   \n",
       "4                                                         0.9100   \n",
       "5                                                         0.9125   \n",
       "6                                                         0.9150   \n",
       "7                                                         0.9135   \n",
       "8                                                         0.9135   \n",
       "9                                                         0.9130   \n",
       "10                                                        0.9140   \n",
       "\n",
       "                                Books.train_to_Home_and_Kitchen.train  \\\n",
       "no_self_train_adaptation_score                                 0.8480   \n",
       "1                                                              0.8480   \n",
       "2                                                              0.8440   \n",
       "3                                                              0.8360   \n",
       "4                                                              0.8370   \n",
       "5                                                              0.8345   \n",
       "6                                                              0.8295   \n",
       "7                                                              0.8290   \n",
       "8                                                              0.8320   \n",
       "9                                                              0.8330   \n",
       "10                                                             0.8275   \n",
       "\n",
       "                                Books.train_to_Movies_and_TV.train  \\\n",
       "no_self_train_adaptation_score                              0.9020   \n",
       "1                                                           0.9020   \n",
       "2                                                           0.8985   \n",
       "3                                                           0.8995   \n",
       "4                                                           0.8980   \n",
       "5                                                           0.8975   \n",
       "6                                                           0.8965   \n",
       "7                                                           0.8970   \n",
       "8                                                           0.8980   \n",
       "9                                                           0.8965   \n",
       "10                                                          0.8970   \n",
       "\n",
       "                                Books.train_to_Electronics.train  \\\n",
       "no_self_train_adaptation_score                            0.8045   \n",
       "1                                                         0.8000   \n",
       "2                                                         0.7975   \n",
       "3                                                         0.7905   \n",
       "4                                                         0.7875   \n",
       "5                                                         0.7855   \n",
       "6                                                         0.7815   \n",
       "7                                                         0.7730   \n",
       "8                                                         0.7775   \n",
       "9                                                         0.7745   \n",
       "10                                                        0.7745   \n",
       "\n",
       "                                Books.train_to_Books.train  \n",
       "no_self_train_adaptation_score                      0.9415  \n",
       "1                                                   0.9365  \n",
       "2                                                   0.9355  \n",
       "3                                                   0.9350  \n",
       "4                                                   0.9355  \n",
       "5                                                   0.9360  \n",
       "6                                                   0.9360  \n",
       "7                                                   0.9370  \n",
       "8                                                   0.9370  \n",
       "9                                                   0.9370  \n",
       "10                                                  0.9370  "
      ]
     },
     "execution_count": 220,
     "metadata": {},
     "output_type": "execute_result"
    }
   ],
   "source": [
    "pd.DataFrame.from_dict(no_fs)"
   ]
  },
  {
   "cell_type": "code",
   "execution_count": 221,
   "metadata": {},
   "outputs": [
    {
     "data": {
      "text/html": [
       "<div>\n",
       "<style scoped>\n",
       "    .dataframe tbody tr th:only-of-type {\n",
       "        vertical-align: middle;\n",
       "    }\n",
       "\n",
       "    .dataframe tbody tr th {\n",
       "        vertical-align: top;\n",
       "    }\n",
       "\n",
       "    .dataframe thead th {\n",
       "        text-align: right;\n",
       "    }\n",
       "</style>\n",
       "<table border=\"1\" class=\"dataframe\">\n",
       "  <thead>\n",
       "    <tr style=\"text-align: right;\">\n",
       "      <th></th>\n",
       "      <th>Home_and_Kitchen.train_to_Home_and_Kitchen.train</th>\n",
       "      <th>Home_and_Kitchen.train_to_Movies_and_TV.train</th>\n",
       "      <th>Home_and_Kitchen.train_to_Electronics.train</th>\n",
       "      <th>Home_and_Kitchen.train_to_Books.train</th>\n",
       "      <th>Movies_and_TV.train_to_Home_and_Kitchen.train</th>\n",
       "      <th>Movies_and_TV.train_to_Movies_and_TV.train</th>\n",
       "      <th>Movies_and_TV.train_to_Electronics.train</th>\n",
       "      <th>Movies_and_TV.train_to_Books.train</th>\n",
       "      <th>Electronics.train_to_Home_and_Kitchen.train</th>\n",
       "      <th>Electronics.train_to_Movies_and_TV.train</th>\n",
       "      <th>Electronics.train_to_Electronics.train</th>\n",
       "      <th>Electronics.train_to_Books.train</th>\n",
       "      <th>Books.train_to_Home_and_Kitchen.train</th>\n",
       "      <th>Books.train_to_Movies_and_TV.train</th>\n",
       "      <th>Books.train_to_Electronics.train</th>\n",
       "      <th>Books.train_to_Books.train</th>\n",
       "    </tr>\n",
       "  </thead>\n",
       "  <tbody>\n",
       "    <tr>\n",
       "      <th>no_self_train_adaptation_score</th>\n",
       "      <td>0.930000</td>\n",
       "      <td>0.878000</td>\n",
       "      <td>0.887000</td>\n",
       "      <td>0.896500</td>\n",
       "      <td>0.868000</td>\n",
       "      <td>0.926500</td>\n",
       "      <td>0.815500</td>\n",
       "      <td>0.916500</td>\n",
       "      <td>0.917000</td>\n",
       "      <td>0.902000</td>\n",
       "      <td>0.915000</td>\n",
       "      <td>0.892500</td>\n",
       "      <td>0.848000</td>\n",
       "      <td>0.902000</td>\n",
       "      <td>0.804500</td>\n",
       "      <td>0.941500</td>\n",
       "    </tr>\n",
       "    <tr>\n",
       "      <th>1</th>\n",
       "      <td>0.927820</td>\n",
       "      <td>0.897243</td>\n",
       "      <td>0.883208</td>\n",
       "      <td>0.909273</td>\n",
       "      <td>0.879699</td>\n",
       "      <td>0.924311</td>\n",
       "      <td>0.841103</td>\n",
       "      <td>0.920802</td>\n",
       "      <td>0.918296</td>\n",
       "      <td>0.906266</td>\n",
       "      <td>0.912281</td>\n",
       "      <td>0.905263</td>\n",
       "      <td>0.853634</td>\n",
       "      <td>0.899248</td>\n",
       "      <td>0.810526</td>\n",
       "      <td>0.935840</td>\n",
       "    </tr>\n",
       "    <tr>\n",
       "      <th>2</th>\n",
       "      <td>0.925852</td>\n",
       "      <td>0.874749</td>\n",
       "      <td>0.884269</td>\n",
       "      <td>0.899800</td>\n",
       "      <td>0.869739</td>\n",
       "      <td>0.924349</td>\n",
       "      <td>0.808116</td>\n",
       "      <td>0.923347</td>\n",
       "      <td>0.914329</td>\n",
       "      <td>0.905812</td>\n",
       "      <td>0.911323</td>\n",
       "      <td>0.905812</td>\n",
       "      <td>0.843687</td>\n",
       "      <td>0.897796</td>\n",
       "      <td>0.810621</td>\n",
       "      <td>0.935872</td>\n",
       "    </tr>\n",
       "    <tr>\n",
       "      <th>3</th>\n",
       "      <td>0.925889</td>\n",
       "      <td>0.870305</td>\n",
       "      <td>0.884827</td>\n",
       "      <td>0.903856</td>\n",
       "      <td>0.866299</td>\n",
       "      <td>0.923886</td>\n",
       "      <td>0.803706</td>\n",
       "      <td>0.924887</td>\n",
       "      <td>0.913370</td>\n",
       "      <td>0.907862</td>\n",
       "      <td>0.911367</td>\n",
       "      <td>0.910366</td>\n",
       "      <td>0.848773</td>\n",
       "      <td>0.898848</td>\n",
       "      <td>0.805709</td>\n",
       "      <td>0.935403</td>\n",
       "    </tr>\n",
       "    <tr>\n",
       "      <th>4</th>\n",
       "      <td>0.925351</td>\n",
       "      <td>0.869238</td>\n",
       "      <td>0.884770</td>\n",
       "      <td>0.905311</td>\n",
       "      <td>0.874248</td>\n",
       "      <td>0.923848</td>\n",
       "      <td>0.790581</td>\n",
       "      <td>0.925351</td>\n",
       "      <td>0.913828</td>\n",
       "      <td>0.901303</td>\n",
       "      <td>0.912826</td>\n",
       "      <td>0.909820</td>\n",
       "      <td>0.837174</td>\n",
       "      <td>0.898297</td>\n",
       "      <td>0.787575</td>\n",
       "      <td>0.936874</td>\n",
       "    </tr>\n",
       "    <tr>\n",
       "      <th>5</th>\n",
       "      <td>0.925815</td>\n",
       "      <td>0.871679</td>\n",
       "      <td>0.884712</td>\n",
       "      <td>0.902256</td>\n",
       "      <td>0.857143</td>\n",
       "      <td>0.923810</td>\n",
       "      <td>0.802506</td>\n",
       "      <td>0.925815</td>\n",
       "      <td>0.913784</td>\n",
       "      <td>0.901754</td>\n",
       "      <td>0.911779</td>\n",
       "      <td>0.913283</td>\n",
       "      <td>0.834085</td>\n",
       "      <td>0.897744</td>\n",
       "      <td>0.788972</td>\n",
       "      <td>0.936341</td>\n",
       "    </tr>\n",
       "    <tr>\n",
       "      <th>6</th>\n",
       "      <td>0.926279</td>\n",
       "      <td>0.866098</td>\n",
       "      <td>0.884152</td>\n",
       "      <td>0.899198</td>\n",
       "      <td>0.865597</td>\n",
       "      <td>0.922768</td>\n",
       "      <td>0.792879</td>\n",
       "      <td>0.925777</td>\n",
       "      <td>0.913240</td>\n",
       "      <td>0.898195</td>\n",
       "      <td>0.912237</td>\n",
       "      <td>0.914243</td>\n",
       "      <td>0.836008</td>\n",
       "      <td>0.897693</td>\n",
       "      <td>0.797894</td>\n",
       "      <td>0.935807</td>\n",
       "    </tr>\n",
       "    <tr>\n",
       "      <th>7</th>\n",
       "      <td>0.926242</td>\n",
       "      <td>0.866031</td>\n",
       "      <td>0.885600</td>\n",
       "      <td>0.905168</td>\n",
       "      <td>0.860512</td>\n",
       "      <td>0.922730</td>\n",
       "      <td>0.799799</td>\n",
       "      <td>0.926744</td>\n",
       "      <td>0.915705</td>\n",
       "      <td>0.898645</td>\n",
       "      <td>0.912694</td>\n",
       "      <td>0.914701</td>\n",
       "      <td>0.831410</td>\n",
       "      <td>0.896638</td>\n",
       "      <td>0.789262</td>\n",
       "      <td>0.936779</td>\n",
       "    </tr>\n",
       "    <tr>\n",
       "      <th>8</th>\n",
       "      <td>0.927209</td>\n",
       "      <td>0.863956</td>\n",
       "      <td>0.886546</td>\n",
       "      <td>0.892570</td>\n",
       "      <td>0.863956</td>\n",
       "      <td>0.924197</td>\n",
       "      <td>0.778112</td>\n",
       "      <td>0.926707</td>\n",
       "      <td>0.912149</td>\n",
       "      <td>0.895582</td>\n",
       "      <td>0.912149</td>\n",
       "      <td>0.915161</td>\n",
       "      <td>0.831827</td>\n",
       "      <td>0.898594</td>\n",
       "      <td>0.783133</td>\n",
       "      <td>0.936747</td>\n",
       "    </tr>\n",
       "    <tr>\n",
       "      <th>9</th>\n",
       "      <td>0.926168</td>\n",
       "      <td>0.867906</td>\n",
       "      <td>0.886489</td>\n",
       "      <td>0.890005</td>\n",
       "      <td>0.859367</td>\n",
       "      <td>0.924159</td>\n",
       "      <td>0.802612</td>\n",
       "      <td>0.924661</td>\n",
       "      <td>0.915620</td>\n",
       "      <td>0.893521</td>\n",
       "      <td>0.914114</td>\n",
       "      <td>0.915620</td>\n",
       "      <td>0.834756</td>\n",
       "      <td>0.897037</td>\n",
       "      <td>0.781517</td>\n",
       "      <td>0.936715</td>\n",
       "    </tr>\n",
       "    <tr>\n",
       "      <th>10</th>\n",
       "      <td>0.927638</td>\n",
       "      <td>0.863819</td>\n",
       "      <td>0.886935</td>\n",
       "      <td>0.894975</td>\n",
       "      <td>0.851759</td>\n",
       "      <td>0.924121</td>\n",
       "      <td>0.777889</td>\n",
       "      <td>0.925628</td>\n",
       "      <td>0.912563</td>\n",
       "      <td>0.894472</td>\n",
       "      <td>0.914573</td>\n",
       "      <td>0.915578</td>\n",
       "      <td>0.836181</td>\n",
       "      <td>0.896482</td>\n",
       "      <td>0.780905</td>\n",
       "      <td>0.936181</td>\n",
       "    </tr>\n",
       "  </tbody>\n",
       "</table>\n",
       "</div>"
      ],
      "text/plain": [
       "                                Home_and_Kitchen.train_to_Home_and_Kitchen.train  \\\n",
       "no_self_train_adaptation_score                                          0.930000   \n",
       "1                                                                       0.927820   \n",
       "2                                                                       0.925852   \n",
       "3                                                                       0.925889   \n",
       "4                                                                       0.925351   \n",
       "5                                                                       0.925815   \n",
       "6                                                                       0.926279   \n",
       "7                                                                       0.926242   \n",
       "8                                                                       0.927209   \n",
       "9                                                                       0.926168   \n",
       "10                                                                      0.927638   \n",
       "\n",
       "                                Home_and_Kitchen.train_to_Movies_and_TV.train  \\\n",
       "no_self_train_adaptation_score                                       0.878000   \n",
       "1                                                                    0.897243   \n",
       "2                                                                    0.874749   \n",
       "3                                                                    0.870305   \n",
       "4                                                                    0.869238   \n",
       "5                                                                    0.871679   \n",
       "6                                                                    0.866098   \n",
       "7                                                                    0.866031   \n",
       "8                                                                    0.863956   \n",
       "9                                                                    0.867906   \n",
       "10                                                                   0.863819   \n",
       "\n",
       "                                Home_and_Kitchen.train_to_Electronics.train  \\\n",
       "no_self_train_adaptation_score                                     0.887000   \n",
       "1                                                                  0.883208   \n",
       "2                                                                  0.884269   \n",
       "3                                                                  0.884827   \n",
       "4                                                                  0.884770   \n",
       "5                                                                  0.884712   \n",
       "6                                                                  0.884152   \n",
       "7                                                                  0.885600   \n",
       "8                                                                  0.886546   \n",
       "9                                                                  0.886489   \n",
       "10                                                                 0.886935   \n",
       "\n",
       "                                Home_and_Kitchen.train_to_Books.train  \\\n",
       "no_self_train_adaptation_score                               0.896500   \n",
       "1                                                            0.909273   \n",
       "2                                                            0.899800   \n",
       "3                                                            0.903856   \n",
       "4                                                            0.905311   \n",
       "5                                                            0.902256   \n",
       "6                                                            0.899198   \n",
       "7                                                            0.905168   \n",
       "8                                                            0.892570   \n",
       "9                                                            0.890005   \n",
       "10                                                           0.894975   \n",
       "\n",
       "                                Movies_and_TV.train_to_Home_and_Kitchen.train  \\\n",
       "no_self_train_adaptation_score                                       0.868000   \n",
       "1                                                                    0.879699   \n",
       "2                                                                    0.869739   \n",
       "3                                                                    0.866299   \n",
       "4                                                                    0.874248   \n",
       "5                                                                    0.857143   \n",
       "6                                                                    0.865597   \n",
       "7                                                                    0.860512   \n",
       "8                                                                    0.863956   \n",
       "9                                                                    0.859367   \n",
       "10                                                                   0.851759   \n",
       "\n",
       "                                Movies_and_TV.train_to_Movies_and_TV.train  \\\n",
       "no_self_train_adaptation_score                                    0.926500   \n",
       "1                                                                 0.924311   \n",
       "2                                                                 0.924349   \n",
       "3                                                                 0.923886   \n",
       "4                                                                 0.923848   \n",
       "5                                                                 0.923810   \n",
       "6                                                                 0.922768   \n",
       "7                                                                 0.922730   \n",
       "8                                                                 0.924197   \n",
       "9                                                                 0.924159   \n",
       "10                                                                0.924121   \n",
       "\n",
       "                                Movies_and_TV.train_to_Electronics.train  \\\n",
       "no_self_train_adaptation_score                                  0.815500   \n",
       "1                                                               0.841103   \n",
       "2                                                               0.808116   \n",
       "3                                                               0.803706   \n",
       "4                                                               0.790581   \n",
       "5                                                               0.802506   \n",
       "6                                                               0.792879   \n",
       "7                                                               0.799799   \n",
       "8                                                               0.778112   \n",
       "9                                                               0.802612   \n",
       "10                                                              0.777889   \n",
       "\n",
       "                                Movies_and_TV.train_to_Books.train  \\\n",
       "no_self_train_adaptation_score                            0.916500   \n",
       "1                                                         0.920802   \n",
       "2                                                         0.923347   \n",
       "3                                                         0.924887   \n",
       "4                                                         0.925351   \n",
       "5                                                         0.925815   \n",
       "6                                                         0.925777   \n",
       "7                                                         0.926744   \n",
       "8                                                         0.926707   \n",
       "9                                                         0.924661   \n",
       "10                                                        0.925628   \n",
       "\n",
       "                                Electronics.train_to_Home_and_Kitchen.train  \\\n",
       "no_self_train_adaptation_score                                     0.917000   \n",
       "1                                                                  0.918296   \n",
       "2                                                                  0.914329   \n",
       "3                                                                  0.913370   \n",
       "4                                                                  0.913828   \n",
       "5                                                                  0.913784   \n",
       "6                                                                  0.913240   \n",
       "7                                                                  0.915705   \n",
       "8                                                                  0.912149   \n",
       "9                                                                  0.915620   \n",
       "10                                                                 0.912563   \n",
       "\n",
       "                                Electronics.train_to_Movies_and_TV.train  \\\n",
       "no_self_train_adaptation_score                                  0.902000   \n",
       "1                                                               0.906266   \n",
       "2                                                               0.905812   \n",
       "3                                                               0.907862   \n",
       "4                                                               0.901303   \n",
       "5                                                               0.901754   \n",
       "6                                                               0.898195   \n",
       "7                                                               0.898645   \n",
       "8                                                               0.895582   \n",
       "9                                                               0.893521   \n",
       "10                                                              0.894472   \n",
       "\n",
       "                                Electronics.train_to_Electronics.train  \\\n",
       "no_self_train_adaptation_score                                0.915000   \n",
       "1                                                             0.912281   \n",
       "2                                                             0.911323   \n",
       "3                                                             0.911367   \n",
       "4                                                             0.912826   \n",
       "5                                                             0.911779   \n",
       "6                                                             0.912237   \n",
       "7                                                             0.912694   \n",
       "8                                                             0.912149   \n",
       "9                                                             0.914114   \n",
       "10                                                            0.914573   \n",
       "\n",
       "                                Electronics.train_to_Books.train  \\\n",
       "no_self_train_adaptation_score                          0.892500   \n",
       "1                                                       0.905263   \n",
       "2                                                       0.905812   \n",
       "3                                                       0.910366   \n",
       "4                                                       0.909820   \n",
       "5                                                       0.913283   \n",
       "6                                                       0.914243   \n",
       "7                                                       0.914701   \n",
       "8                                                       0.915161   \n",
       "9                                                       0.915620   \n",
       "10                                                      0.915578   \n",
       "\n",
       "                                Books.train_to_Home_and_Kitchen.train  \\\n",
       "no_self_train_adaptation_score                               0.848000   \n",
       "1                                                            0.853634   \n",
       "2                                                            0.843687   \n",
       "3                                                            0.848773   \n",
       "4                                                            0.837174   \n",
       "5                                                            0.834085   \n",
       "6                                                            0.836008   \n",
       "7                                                            0.831410   \n",
       "8                                                            0.831827   \n",
       "9                                                            0.834756   \n",
       "10                                                           0.836181   \n",
       "\n",
       "                                Books.train_to_Movies_and_TV.train  \\\n",
       "no_self_train_adaptation_score                            0.902000   \n",
       "1                                                         0.899248   \n",
       "2                                                         0.897796   \n",
       "3                                                         0.898848   \n",
       "4                                                         0.898297   \n",
       "5                                                         0.897744   \n",
       "6                                                         0.897693   \n",
       "7                                                         0.896638   \n",
       "8                                                         0.898594   \n",
       "9                                                         0.897037   \n",
       "10                                                        0.896482   \n",
       "\n",
       "                                Books.train_to_Electronics.train  \\\n",
       "no_self_train_adaptation_score                          0.804500   \n",
       "1                                                       0.810526   \n",
       "2                                                       0.810621   \n",
       "3                                                       0.805709   \n",
       "4                                                       0.787575   \n",
       "5                                                       0.788972   \n",
       "6                                                       0.797894   \n",
       "7                                                       0.789262   \n",
       "8                                                       0.783133   \n",
       "9                                                       0.781517   \n",
       "10                                                      0.780905   \n",
       "\n",
       "                                Books.train_to_Books.train  \n",
       "no_self_train_adaptation_score                    0.941500  \n",
       "1                                                 0.935840  \n",
       "2                                                 0.935872  \n",
       "3                                                 0.935403  \n",
       "4                                                 0.936874  \n",
       "5                                                 0.936341  \n",
       "6                                                 0.935807  \n",
       "7                                                 0.936779  \n",
       "8                                                 0.936747  \n",
       "9                                                 0.936715  \n",
       "10                                                0.936181  "
      ]
     },
     "execution_count": 221,
     "metadata": {},
     "output_type": "execute_result"
    }
   ],
   "source": [
    "pd.DataFrame.from_dict(fs0025)"
   ]
  }
 ],
 "metadata": {
  "kernelspec": {
   "display_name": "Python 3",
   "language": "python",
   "name": "python3"
  },
  "language_info": {
   "codemirror_mode": {
    "name": "ipython",
    "version": 3
   },
   "file_extension": ".py",
   "mimetype": "text/x-python",
   "name": "python",
   "nbconvert_exporter": "python",
   "pygments_lexer": "ipython3",
   "version": "3.8.5"
  }
 },
 "nbformat": 4,
 "nbformat_minor": 4
}
